{
 "cells": [
  {
   "attachments": {},
   "cell_type": "markdown",
   "metadata": {},
   "source": [
    "### Regex project\n",
    "\n",
    "Use python to read the file regex_test.txt and print the last name on each line using regular expressions and groups (return None for names with no first and last name, or names that aren't properly capitalized)\n",
    "##### Hint: use with open() and readlines()\n",
    "\n",
    "**Expected Output:**\n",
    "\n",
    "Abraham Lincoln\n",
    "\n",
    "Andrew P Garfield\n",
    "\n",
    "Connor Milliken\n",
    "\n",
    "Jordan Alexander Williams\n",
    "\n",
    "None\n",
    "\n",
    "None"
   ]
  },
  {
   "cell_type": "code",
   "execution_count": 56,
   "metadata": {},
   "outputs": [
    {
     "name": "stdout",
     "output_type": "stream",
     "text": [
      "Abraham Lincoln\n",
      "\n",
      "Andrew P Garfield\n",
      "\n",
      "Connor Milliken\n",
      "\n",
      "Jordan Alexander Williams\n",
      "\n",
      "None\n",
      "None\n"
     ]
    }
   ],
   "source": [
    "import re\n",
    "\n",
    "with open(r'C:\\Users\\Owner\\Documents\\Coding Temple\\week_3\\day_1\\regex_test.txt', encoding='utf-8') as f:\n",
    "    data = f.readlines()\n",
    "    \n",
    "def full_name(data):\n",
    "    \"\"\"\n",
    "    Checks to make sure there are at least two names stated in the line of\n",
    "    data and then returns the name back or None if it failed.\n",
    "    \"\"\"\n",
    "    pattern = re.compile(r\"([A-Z][a-z]+) ([A-Z][a-z]+)*\", re.MULTILINE)\n",
    "    if pattern.match(data):\n",
    "        return data\n",
    "    else:\n",
    "        return None\n",
    "    \n",
    "for name in data:\n",
    "    print(full_name(name))\n",
    "\n",
    "\n"
   ]
  }
 ],
 "metadata": {
  "kernelspec": {
   "display_name": "base",
   "language": "python",
   "name": "python3"
  },
  "language_info": {
   "codemirror_mode": {
    "name": "ipython",
    "version": 3
   },
   "file_extension": ".py",
   "mimetype": "text/x-python",
   "name": "python",
   "nbconvert_exporter": "python",
   "pygments_lexer": "ipython3",
   "version": "3.10.9"
  },
  "orig_nbformat": 4
 },
 "nbformat": 4,
 "nbformat_minor": 2
}
