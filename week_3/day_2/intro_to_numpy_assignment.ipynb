{
  "cells": [
    {
      "attachments": {},
      "cell_type": "markdown",
      "metadata": {
        "id": "ZvNsvUNNlZbi"
      },
      "source": [
        "# Coding Temple's Data Analytics Program  \n",
        "---\n",
        "# Advanced Python - Intro to `numpy`\n",
        "---\n",
        "\n"
      ]
    },
    {
      "attachments": {},
      "cell_type": "markdown",
      "metadata": {
        "id": "xMq6Of2Gt24o"
      },
      "source": [
        "## Part 1: Working with `numpy`\n"
      ]
    },
    {
      "attachments": {},
      "cell_type": "markdown",
      "metadata": {
        "id": "76eJSGb5gwtY"
      },
      "source": [
        "### 1.1 Importing `numpy`\n",
        "\n",
        "We've already used the `numpy` package by importing it and assigning it the standard alias of `np`. Do this again in the following cell - the more you practice typing these lines of code, the easier it will be to remember."
      ]
    },
    {
      "cell_type": "code",
      "execution_count": 2,
      "metadata": {
        "id": "h3r0IvHVuGJb"
      },
      "outputs": [],
      "source": [
        "# Import numpy and assign it the standard alias\n",
        "# YOUR CODE HERE\n",
        "import numpy as np"
      ]
    },
    {
      "attachments": {},
      "cell_type": "markdown",
      "metadata": {},
      "source": [
        "### 1.1 Solution - Run this cell to check your answer in 1.1. Please do not edit the values in this cell!"
      ]
    },
    {
      "cell_type": "code",
      "execution_count": 3,
      "metadata": {},
      "outputs": [],
      "source": [
        "# DO NOT EDIT THIS CELL\n",
        "assert np.__name__ == 'numpy', 'Make sure that you have properly imported numpy and aliased it as np!'"
      ]
    },
    {
      "attachments": {},
      "cell_type": "markdown",
      "metadata": {
        "id": "DvYie7qokbDH"
      },
      "source": [
        "### 1.2 Generate random numbers\n",
        "\n",
        "Create a `(5,3)` `numpy` array of random integer values between 0 and 100.\n",
        "\n",
        "Use the the `random()` method in numpy to generate these integers. Name your new variable `myarray`. You should also print the array to check it's dimensions and values."
      ]
    },
    {
      "cell_type": "code",
      "execution_count": 7,
      "metadata": {
        "colab": {
          "base_uri": "https://localhost:8080/"
        },
        "id": "UNJo_50VktRs",
        "outputId": "201f35e8-cd05-451c-aee4-de9b6e2ad93c"
      },
      "outputs": [
        {
          "data": {
            "text/plain": [
              "array([[37, 12, 72],\n",
              "       [ 9, 75,  5],\n",
              "       [79, 64, 16],\n",
              "       [ 1, 76, 71],\n",
              "       [ 6, 25, 50]])"
            ]
          },
          "execution_count": 7,
          "metadata": {},
          "output_type": "execute_result"
        }
      ],
      "source": [
        "# Generate your random numbers\n",
        "np.random.seed(1) #Seed generated for reproducibility\n",
        "\n",
        "#YOUR CODE HERE\n",
        "myarray=np.random.randint(0,1e2, (5,3))\n",
        "# Print out the array\n",
        "myarray"
      ]
    },
    {
      "attachments": {},
      "cell_type": "markdown",
      "metadata": {},
      "source": [
        "### 1.2 Solution - Run the following cell to check your answer."
      ]
    },
    {
      "cell_type": "code",
      "execution_count": 8,
      "metadata": {},
      "outputs": [],
      "source": [
        "#DO NOT EDIT THIS CELL\n",
        "\n",
        "#Verify the array was created with the correct name and has the proper shape\n",
        "assert myarray.shape == (5,3), 'Make sure you create an array with the proper shape!'"
      ]
    },
    {
      "attachments": {},
      "cell_type": "markdown",
      "metadata": {},
      "source": [
        "### 1.3 Calculate BMI \n",
        "\n",
        "Using the two lists provided, please calculate the BMI(body mass index) of each individual using NDArrays. Save the variable containing your results as `bmi`\n",
        "\n",
        "The formula for BMI in pounds and inches can be defined as: $BMI= \\frac{703 * weight} {(height)^2}$"
      ]
    },
    {
      "cell_type": "code",
      "execution_count": 15,
      "metadata": {},
      "outputs": [
        {
          "data": {
            "text/plain": [
              "array([39.51,  8.79, 16.49, 14.06])"
            ]
          },
          "execution_count": 15,
          "metadata": {},
          "output_type": "execute_result"
        }
      ],
      "source": [
        "height = [55, 120, 90, 100]\n",
        "weight = [170, 180, 190, 200]\n",
        "\n",
        "bmi=(np.round((703*(np.array(weight)))/((np.array(height))**2),2))\n",
        "bmi"
      ]
    },
    {
      "attachments": {},
      "cell_type": "markdown",
      "metadata": {},
      "source": [
        "### 1.3 Solution: Run the following cell to check your answer."
      ]
    },
    {
      "cell_type": "code",
      "execution_count": 16,
      "metadata": {},
      "outputs": [],
      "source": [
        "assert 'bmi' in dir() , 'Make sure you have saved your results to the proper variable name!'\n",
        "assert type(bmi) == np.ndarray, 'Make sure that you made the calculation using an NDArray for both height and weight!'"
      ]
    },
    {
      "attachments": {},
      "cell_type": "markdown",
      "metadata": {},
      "source": [
        "### 1.4 Create a function \n",
        "\n",
        "Create a function named `my_func` that will take in two parameters and will create a random matrix based off of those parameters. Extra: Have additional parameters taken in that allow the user to choose the shape and data type of the matrix."
      ]
    },
    {
      "cell_type": "code",
      "execution_count": 62,
      "metadata": {},
      "outputs": [
        {
          "name": "stdout",
          "output_type": "stream",
          "text": [
            "[[49038.   34329.1  45997.6   3472.59]\n",
            " [26574.32 29206.24 19333.47 13065.23]\n",
            " [22467.43 27380.93 42296.62 40790.32]\n",
            " [13065.43 49102.83 46403.1  16785.61]\n",
            " [35229.   32457.78 10441.91 37224.34]\n",
            " [48885.96 20781.96  4580.64 13067.12]\n",
            " [11445.04 41572.55 26342.12  1637.88]\n",
            " [38042.88 21170.41  8852.94 35062.84]]\n"
          ]
        }
      ],
      "source": [
        "def my_func(starting_range,range_end,shape: tuple=(5,5), data_type = \"integer\"):\n",
        "    if data_type.lower() == \"integer\":\n",
        "        Func_Array = np.random.randint(starting_range,range_end,shape)\n",
        "        return Func_Array\n",
        "    elif data_type.lower() == \"float\":\n",
        "        Func_Array = np.round(np.random.uniform(starting_range,range_end,shape,),2)\n",
        "        return Func_Array\n",
        "\n",
        "Mypirate = my_func(3,5e4,(8,4),\"float\")\n",
        "print(Mypirate)"
      ]
    },
    {
      "attachments": {},
      "cell_type": "markdown",
      "metadata": {
        "id": "CYy4Zp5pk7tS"
      },
      "source": [
        "### 1.5 Array practice\n",
        "\n",
        "Time for some more practice. Run each of these tasks in the separate code cell listed below:\n",
        "\n",
        "1.  Return the first row\n",
        "2.  Return the last column\n",
        "3.  Return the third column values from the 4th and 5th rows\n",
        "4.  Multiply every value in the array by 2\n",
        "5.  Divide every value by 3\n",
        "6.  Increase the values in the first row by 12\n",
        "7. Calculate the mean of the first column\n",
        "8. Calculate the median of the array _after_ removing the 2 smallest values in the array\n",
        "9. Calculate the standard deviation of the first 3 rows\n",
        "10. Return values greater than 25 in the second column\n",
        "11. Return values less than 40 in the array"
      ]
    },
    {
      "cell_type": "code",
      "execution_count": 63,
      "metadata": {
        "colab": {
          "base_uri": "https://localhost:8080/"
        },
        "id": "lIxLoTfGl910",
        "outputId": "126ce770-41b6-42ab-eab5-26071a027979"
      },
      "outputs": [
        {
          "name": "stdout",
          "output_type": "stream",
          "text": [
            "[49038.   34329.1  45997.6   3472.59]\n"
          ]
        }
      ],
      "source": [
        "# 1. Return the first row:\n",
        "print(Mypirate[0])"
      ]
    },
    {
      "cell_type": "code",
      "execution_count": 64,
      "metadata": {
        "colab": {
          "base_uri": "https://localhost:8080/"
        },
        "id": "lMafok6zoGB-",
        "outputId": "df874775-ac9e-42de-c305-fd7e13afc98b"
      },
      "outputs": [
        {
          "name": "stdout",
          "output_type": "stream",
          "text": [
            "[ 3472.59 13065.23 40790.32 16785.61 37224.34 13067.12  1637.88 35062.84]\n"
          ]
        }
      ],
      "source": [
        "# 2. Return the last column\n",
        "print(Mypirate[:,-1])"
      ]
    },
    {
      "cell_type": "code",
      "execution_count": 65,
      "metadata": {
        "colab": {
          "base_uri": "https://localhost:8080/"
        },
        "id": "TEpRarEbobjz",
        "outputId": "0adb6634-385c-47a4-f01e-1b8add2518d1"
      },
      "outputs": [
        {
          "name": "stdout",
          "output_type": "stream",
          "text": [
            "[46403.1  10441.91]\n"
          ]
        }
      ],
      "source": [
        "# 3. Return the third column values from the 4th and 5th rows\n",
        "print(Mypirate[3:5,2])\n"
      ]
    },
    {
      "cell_type": "code",
      "execution_count": 66,
      "metadata": {
        "colab": {
          "base_uri": "https://localhost:8080/"
        },
        "id": "6nR51YtPpdKo",
        "outputId": "244aec23-e37a-4bca-d8fb-43b3744f3c4d"
      },
      "outputs": [
        {
          "name": "stdout",
          "output_type": "stream",
          "text": [
            "[[98076.   68658.2  91995.2   6945.18]\n",
            " [53148.64 58412.48 38666.94 26130.46]\n",
            " [44934.86 54761.86 84593.24 81580.64]\n",
            " [26130.86 98205.66 92806.2  33571.22]\n",
            " [70458.   64915.56 20883.82 74448.68]\n",
            " [97771.92 41563.92  9161.28 26134.24]\n",
            " [22890.08 83145.1  52684.24  3275.76]\n",
            " [76085.76 42340.82 17705.88 70125.68]]\n"
          ]
        }
      ],
      "source": [
        "# 4. Multiply every value in the array by 2\n",
        "print(Mypirate*2)"
      ]
    },
    {
      "cell_type": "code",
      "execution_count": 67,
      "metadata": {
        "colab": {
          "base_uri": "https://localhost:8080/"
        },
        "id": "6Nr8BqCVpfr1",
        "outputId": "a3616032-2853-41a8-c941-b5a8be43f70f"
      },
      "outputs": [
        {
          "name": "stdout",
          "output_type": "stream",
          "text": [
            "[[16346.   11443.03 15332.53  1157.53]\n",
            " [ 8858.11  9735.41  6444.49  4355.08]\n",
            " [ 7489.14  9126.98 14098.87 13596.77]\n",
            " [ 4355.14 16367.61 15467.7   5595.2 ]\n",
            " [11743.   10819.26  3480.64 12408.11]\n",
            " [16295.32  6927.32  1526.88  4355.71]\n",
            " [ 3815.01 13857.52  8780.71   545.96]\n",
            " [12680.96  7056.8   2950.98 11687.61]]\n"
          ]
        }
      ],
      "source": [
        "# 5. Divide every value by 3\n",
        "print(np.round(Mypirate/3,2))"
      ]
    },
    {
      "cell_type": "code",
      "execution_count": 68,
      "metadata": {
        "colab": {
          "base_uri": "https://localhost:8080/"
        },
        "id": "5ejUOn2gptcV",
        "outputId": "921e3aab-2cf7-4a46-8581-5fdb1fb69da1"
      },
      "outputs": [
        {
          "name": "stdout",
          "output_type": "stream",
          "text": [
            "[49050.   34341.1  46009.6   3484.59]\n"
          ]
        }
      ],
      "source": [
        "# 6. Increase the values in the first row by 12\n",
        "print(Mypirate[0]+12)"
      ]
    },
    {
      "cell_type": "code",
      "execution_count": 69,
      "metadata": {
        "colab": {
          "base_uri": "https://localhost:8080/"
        },
        "id": "o-q-n6rzpunI",
        "outputId": "0783e4fc-2bc5-4480-e62d-90fdd33c73e2"
      },
      "outputs": [
        {
          "name": "stdout",
          "output_type": "stream",
          "text": [
            "30593.5075\n"
          ]
        }
      ],
      "source": [
        "# 7. Calculate the mean of the first column\n",
        "print(Mypirate[:,0].mean())"
      ]
    },
    {
      "cell_type": "code",
      "execution_count": 74,
      "metadata": {
        "colab": {
          "base_uri": "https://localhost:8080/"
        },
        "id": "izVdnwnLpuuY",
        "outputId": "11965467-d665-416e-a4ec-883745aa668f"
      },
      "outputs": [
        {
          "name": "stdout",
          "output_type": "stream",
          "text": [
            "26861.525\n",
            "26977.625\n"
          ]
        }
      ],
      "source": [
        "# 8. Calculate the median of the array after removing the 2 smallest values in the array\n",
        "Mypiratecopy=np.sort(Mypirate[:,:])\n",
        "print(np.median(Mypiratecopy[2:]))\n",
        "print(np.median(Mypirate))\n",
        "\n"
      ]
    },
    {
      "cell_type": "code",
      "execution_count": 124,
      "metadata": {
        "colab": {
          "base_uri": "https://localhost:8080/"
        },
        "id": "1WCDKp2xrzK9",
        "outputId": "74aca405-d2d6-4ec6-e983-a438a8aec81f"
      },
      "outputs": [
        {
          "name": "stdout",
          "output_type": "stream",
          "text": [
            "10.195859726161181\n",
            "[[21 14 28 24 17]\n",
            " [13 40 37 17 27]\n",
            " [37 32 26 43  9]\n",
            " [44 10 44 39  9]\n",
            " [11 30 10 12 37]]\n"
          ]
        }
      ],
      "source": [
        "# 9. Calculate the standard deviation of the first 3 rows\n",
        "# Generate a new array to work on\n",
        "np.random.seed(2) # New seed for new array\n",
        "Myarrgh = my_func(6,45)\n",
        "Stdpirate =np.std(Myarrgh[0:3,:])\n",
        "print(Stdpirate)\n",
        "print(Myarrgh)"
      ]
    },
    {
      "cell_type": "code",
      "execution_count": 129,
      "metadata": {
        "colab": {
          "base_uri": "https://localhost:8080/"
        },
        "id": "zb7aXd3xry3r",
        "outputId": "e6f81b8a-1cb1-4c9f-a734-a8471a8f7961"
      },
      "outputs": [
        {
          "name": "stdout",
          "output_type": "stream",
          "text": [
            "[[13 40 37 17 27]\n",
            " [37 32 26 43  9]\n",
            " [11 30 10 12 37]]\n"
          ]
        }
      ],
      "source": [
        "# 10. Return values in the second column greater than 25\n",
        "mask = Myarrgh[:,1]> 25\n",
        "\n",
        "print(Myarrgh[mask])\n"
      ]
    },
    {
      "cell_type": "code",
      "execution_count": 132,
      "metadata": {
        "colab": {
          "base_uri": "https://localhost:8080/"
        },
        "id": "IZ8HYk95ocDE",
        "outputId": "8d047861-9abd-4138-ce5c-366821ca933c"
      },
      "outputs": [
        {
          "name": "stdout",
          "output_type": "stream",
          "text": [
            "[21 14 28 24 17 13 37 17 27 37 32 26  9 10 39  9 11 30 10 12 37]\n"
          ]
        }
      ],
      "source": [
        "# 11. Return values < 40 in the array\n",
        "mask = Myarrgh<40\n",
        "print(Myarrgh[mask])"
      ]
    },
    {
      "cell_type": "code",
      "execution_count": null,
      "metadata": {},
      "outputs": [],
      "source": []
    },
    {
      "attachments": {},
      "cell_type": "markdown",
      "metadata": {
        "id": "6Xwf9ZDLX_xp"
      },
      "source": [
        "### Solution 1.5: Run the following cell to view the solution for each of the above tasks.\n",
        "\n",
        "A new array will be generated to demonstrate the solution - the values will not be the same as your array. But the code for each task will still apply."
      ]
    },
    {
      "cell_type": "code",
      "execution_count": 128,
      "metadata": {
        "colab": {
          "base_uri": "https://localhost:8080/"
        },
        "id": "15P0nIbqY8vi",
        "outputId": "f0aa2414-b800-48de-c300-d3763e4eb9fc"
      },
      "outputs": [
        {
          "name": "stdout",
          "output_type": "stream",
          "text": [
            "10. All values in 2nd column > 25: \n",
            " [[65 94 60]\n",
            " [24 82 97]\n",
            " [ 2 92 98]\n",
            " [10 54 96]\n",
            " [82 86 70]]\n",
            "\n",
            "\n",
            "11. All values < 40: \n",
            " [24  2 10]\n"
          ]
        }
      ],
      "source": [
        "# DO NOT EDIT THIS CELL\n",
        "# SOLUTION 1.3\n",
        "\n",
        "# # SOLUTION: Make sure you have completed all of the above tasks\n",
        "# # Generate your random numbers (NEW ARRAY)\n",
        "# myarray = np.random.randint(100, size=(5, 3))\n",
        "# print('The generated array: \\n', myarray)\n",
        "# print('\\n')\n",
        "\n",
        "# # 1. Return the first row:\n",
        "# print('1. The first row: ', myarray[0])\n",
        "# print('\\n')\n",
        "\n",
        "# # 2. Return the last column\n",
        "# print('2. The last column: ', myarray[:,-1])\n",
        "# print('\\n')\n",
        "\n",
        "# # 3. Return the third column values from the 4th and 5th rows\n",
        "# print('3. The 3rd column, 4th & 5th rows: ', myarray[3:5,2])\n",
        "# print('\\n')\n",
        "\n",
        "# # 4. Multiply every value in the array by 2\n",
        "# # (operates on the original array)\n",
        "# print('4. Multiply by 2: \\n', myarray * 2)\n",
        "# print('\\n')\n",
        "\n",
        "# # 5. Divide every value by 3\n",
        "# # (operates on the original array)\n",
        "# print('5. Divide by 3: \\n', myarray / 3)\n",
        "# print('\\n')\n",
        "\n",
        "# # 6. Increase the values in the first row by 12\n",
        "# # (operates on the original array)\n",
        "# print('6. Add 12 to the first row: \\n', myarray[0,:] + 12)\n",
        "# print('\\n')\n",
        "\n",
        "# # 7. Calculate the mean of the first column\n",
        "# print('7. The mean of the 1st column: ', myarray[:,0].mean())\n",
        "# print('\\n')\n",
        "\n",
        "# # 8. Calculate the median of the array after removing the 2 smallest values in the array\n",
        "# # flatten and sort (axis=None does the flattening)\n",
        "# myarray = np.sort(myarray, axis=None)\n",
        "# # remove two smallest values\n",
        "# myarray = myarray[2:]\n",
        "# # calculate the median\n",
        "# print('8. The median after removing the 2 smallest values: ', np.median(myarray))\n",
        "# print('\\n')\n",
        "\n",
        "# # 9. Calculate the standard deviation of the first 3 rows\n",
        "# # Generate new array first:\n",
        "# myarray = np.random.randint(100, size=(5, 3))\n",
        "# # Then calculate the std:\n",
        "# print('9. The standard deviation is: ', np.std(myarray[0:3,:]))\n",
        "# print('\\n')\n",
        "\n",
        "# 10. Return values in the second column greater than 25\n",
        "# create a Boolean mask where values in the 2nd column > 25 are True\n",
        "condition = myarray[:,1] > 25\n",
        "# Apply the mask\n",
        "print('10. All values in 2nd column > 25: \\n', myarray[condition])\n",
        "print('\\n')\n",
        "\n",
        "# 11. Return values < 40 in the array\n",
        "# create another Boolean mask for values < 40\n",
        "condition = myarray < 40\n",
        "# apply the mask\n",
        "print('11. All values < 40: \\n', myarray[condition])"
      ]
    }
  ],
  "metadata": {
    "colab": {
      "provenance": []
    },
    "kernelspec": {
      "display_name": "Python 3",
      "language": "python",
      "name": "python3"
    },
    "language_info": {
      "codemirror_mode": {
        "name": "ipython",
        "version": 3
      },
      "file_extension": ".py",
      "mimetype": "text/x-python",
      "name": "python",
      "nbconvert_exporter": "python",
      "pygments_lexer": "ipython3",
      "version": "3.10.9"
    },
    "vscode": {
      "interpreter": {
        "hash": "26de051ba29f2982a8de78e945f0abaf191376122a1563185a90213a26c5da77"
      }
    }
  },
  "nbformat": 4,
  "nbformat_minor": 0
}
