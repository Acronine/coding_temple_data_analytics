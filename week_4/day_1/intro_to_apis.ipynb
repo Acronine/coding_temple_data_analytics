{
 "cells": [
  {
   "attachments": {},
   "cell_type": "markdown",
   "metadata": {},
   "source": [
    "# Coding Temple's Data Analytics Program\n",
    "---\n",
    "## Intro to API's Assignment\n",
    "---\n",
    "### Problem 1:\n",
    "Check out this Pokemon API https://pokeapi.co/\n",
    "Use the requests package to connect to this API and get and store data for 5 different pokemon.\n",
    "Get the pokemons: name, atleast one ability's name, base_experience, and the URL for its sprite (an image that shows up on screen) for the 'front_shiny', attack base_state, hp base_stat, defense base_stat\n",
    "\n",
    "**BONUS POINTS IF YOU CAN POPULATE THE IMAGE!**"
   ]
  },
  {
   "cell_type": "code",
   "execution_count": 2,
   "metadata": {},
   "outputs": [],
   "source": [
    "import requests, json\n"
   ]
  },
  {
   "cell_type": "code",
   "execution_count": 387,
   "metadata": {},
   "outputs": [
    {
     "data": {
      "text/plain": [
       "5"
      ]
     },
     "execution_count": 387,
     "metadata": {},
     "output_type": "execute_result"
    }
   ],
   "source": [
    "#my main goal is to get to gen 3 pokemon to reach Sapphire,Ruby and Emerald pokemon\n",
    "# url =r'https://pokeapi.co/api/v2/generation/'\n",
    "# response =requests.get(url)\n",
    "# # response.json()\n",
    "new_url=r'https://pokeapi.co/api/v2/generation/3/'\n",
    "response2= requests.get(new_url)\n",
    "# print(response2.json()['pokemon_species'][132])\n",
    "poketest_url = r'https://pokeapi.co/api/v2/pokemon/seedot'\n",
    "response4=requests.get(poketest_url)\n",
    "response4.json()['held_items'][0]['version_details'][-1]['rarity']\n",
    "\n",
    "\n"
   ]
  },
  {
   "cell_type": "code",
   "execution_count": 359,
   "metadata": {},
   "outputs": [
    {
     "name": "stdout",
     "output_type": "stream",
     "text": [
      "hariyama\n",
      "120\n",
      "166\n"
     ]
    },
    {
     "data": {
      "image/png": "[encoded data removed]",
      "text/plain": [
       "<PIL.PngImagePlugin.PngImageFile image mode=P size=96x96>"
      ]
     },
     "execution_count": 359,
     "metadata": {},
     "output_type": "execute_result"
    }
   ],
   "source": [
    "import numpy as np\n",
    "from PIL import Image\n",
    "from io import BytesIO\n",
    "\n",
    "class Pull_rand_gen3_poke:\n",
    "    \"\"\"\n",
    "    This object is to create attributes using information pulled from the Pokemon api, exclusively using\n",
    "    the 3rd generation of Pokemon. It however, can not pull deoxys in its current state. But will detect if deoxys is put in.\n",
    "    It will have a name, random ability, base experience, a url for its front shiny sprite,\n",
    "    an attack base stat, a base hp stat, and a base defense stat. It will also be able to show in python\n",
    "    the image associated with its front shiny sprite when called.\n",
    "    \n",
    "    The attributes for this class:\n",
    "        -Pokename: the Pokemon's name.\n",
    "        -Gen3Info: the request file using the pokemon names to directly link into the api.\n",
    "        -Ability: Picks a random ability the Pokemon can have.\n",
    "        -Base Experience: Tells the base experience of that Pokemon.\n",
    "        -Shiny URL Front: The url for the image of the shiny front sprite.\n",
    "        -Attack Base Stat: The base attack stat of that Pokemon\n",
    "        -HP Base Stat: The base HP stat of that Pokemon.\n",
    "        -Defense Base Stat: The base defense stat of that Pokemon.\n",
    "    The method for this class is:\n",
    "        -Show Image: returns an image of the Shiny Url Front attribute.\n",
    "    \n",
    "    \"\"\"\n",
    "    def __init__(self,poke_name=f'{response2.json()[\"pokemon_species\"][(np.random.randint(0,132))][\"name\"]}'):\n",
    "        try:\n",
    "            self.poke_name= poke_name\n",
    "            self.gen3_info=requests.get(fr'https://pokeapi.co/api/v2/pokemon/{self.poke_name}')\n",
    "            self.ability = self.gen3_info.json()['abilities'][(np.random.randint(len(self.gen3_info.json()['abilities'])))]['ability']['name']\n",
    "            self.base_experience=self.gen3_info.json()['base_experience']\n",
    "            self.shiny_url_front=fr'{self.gen3_info.json()[\"sprites\"][\"front_shiny\"]}'\n",
    "            self.attack_base_stat=self.gen3_info.json()['stats'][1]['base_stat']\n",
    "            self.hp_base_stat=self.gen3_info.json()['stats'][0]['base_stat']\n",
    "            self.defense_base_stat=self.gen3_info.json()['stats'][2]['base_stat']\n",
    "        except:\n",
    "            print('Unable to pull deoxys.')\n",
    "            \n",
    "        \n",
    "    def show_image(self):\n",
    "        return Image.open(BytesIO((requests.get(self.shiny_url_front)).content))\n",
    "        \n",
    "Pokemon1 = Pull_rand_gen3_poke()\n",
    "print(Pokemon1.poke_name)\n",
    "print(Pokemon1.attack_base_stat)\n",
    "print(Pokemon1.base_experience)\n",
    "Pokemon1.show_image()\n"
   ]
  },
  {
   "attachments": {},
   "cell_type": "markdown",
   "metadata": {},
   "source": [
    "### Problem 2:\n",
    "\n",
    "I want to build the best Pokemon team I can and I need your help to do so! Using the API, build me a team of 6 pokemon who's base-stats are above 60. Return any additional information you think is needed to help understand why you chose that pokemon for the team!"
   ]
  },
  {
   "cell_type": "code",
   "execution_count": 358,
   "metadata": {},
   "outputs": [
    {
     "name": "stdout",
     "output_type": "stream",
     "text": [
      "{'slaking': ['normal'], 'rayquaza': ['dragon', 'flying'], 'sceptile': ['grass'], 'kyogre': ['water'], 'blaziken': ['fire', 'fighting'], 'gardevoir': ['psychic', 'fairy']}\n"
     ]
    }
   ],
   "source": [
    "def build_a_team(pokemon_list:list):\n",
    "    \"\"\"\n",
    "    This function runs through a list of given Pokemon until it returns a dictionary \n",
    "    that is filled with a team of 6 pokemon and their unique typings.\n",
    "    \n",
    "    It creates a copy of the original list it can iterate through, then creates a dictionary and temp list.\n",
    "    Then it starts a loop that waits until the length of the dictionary is 6. Then it randomly pops a Pokemon out of the copied list \n",
    "    and checks if any pokemon currently on the team have the same type as the popped Pokemon. If not, the pokemon is added to the team.\n",
    "    \"\"\"\n",
    "    pk_list=pokemon_list[:]\n",
    "    team = {}\n",
    "    team_types=[]\n",
    "    while len(team) < 6:\n",
    "        pokemon_tryout = pk_list.pop(np.random.randint(0,(len(pk_list))))\n",
    "        tryout_info = requests.get(fr'https://pokeapi.co/api/v2/pokemon/{pokemon_tryout}')\n",
    "        test_type=[tryout_info.json()['types'][i]['type']['name'] for i in range(len(tryout_info.json()['types']))]\n",
    "        if any(type in team_types for type in test_type) == True:\n",
    "            continue\n",
    "        else:\n",
    "            team[pokemon_tryout]=test_type\n",
    "            team_types += test_type\n",
    "    return team\n",
    "\n",
    "print(build_a_team(above_sixty))"
   ]
  },
  {
   "attachments": {},
   "cell_type": "markdown",
   "metadata": {},
   "source": [
    "### Problem 3:\n",
    "\n",
    "Create a function that does the following:\n",
    "* Input: pokemon_name(user_defined) -> str\n",
    "* Output: list object containing a dictionary of values from the response object.\n",
    "* Please include the type, the most current raritey level, at least one held item, and all stats"
   ]
  },
  {
   "cell_type": "code",
   "execution_count": 397,
   "metadata": {},
   "outputs": [
    {
     "data": {
      "text/plain": [
       "[{'name': 'arbok'},\n",
       " {'type(s)': ['poison']},\n",
       " {'base_stats': {'hp': 60,\n",
       "   'attack': 95,\n",
       "   'defense': 69,\n",
       "   'special-attack': 65,\n",
       "   'special-defense': 79,\n",
       "   'speed': 80}},\n",
       " {'held_item': 'poison-barb', 'rarity': '5'}]"
      ]
     },
     "execution_count": 397,
     "metadata": {},
     "output_type": "execute_result"
    }
   ],
   "source": [
    "def poke_info(pokemon:str):\n",
    "    '''\n",
    "    This functions takes in a pokemon names as a string and returns a list\n",
    "    with nested dictionaries for its name, typings, base stats, and a random held item and its rarity.\n",
    "    '''\n",
    "    p_req=requests.get(fr'https://pokeapi.co/api/v2/pokemon/{pokemon.lower()}')\n",
    "    typings={'type(s)':[p_req.json()['types'][i]['type']['name'] for i in range(len(p_req.json()['types']))]}\n",
    "    # The list comprehension is to check if the pokemon has two types, and if so,\n",
    "    #  then add them in.\n",
    "    stats={\"base_stats\":{}}\n",
    "    for i in range(6):\n",
    "        stats[\"base_stats\"][f\"{p_req.json()['stats'][i]['stat']['name']}\"] = p_req.json()['stats'][i]['base_stat']\n",
    "    # Initializes the dictionary then does a for loop for all 6 stats to add each unique stat\n",
    "    #  into the nested dictionary.\n",
    "    rand_held_num = np.random.randint(len(p_req.json()['held_items']))\n",
    "    held_item={'held_item':f\"{p_req.json()['held_items'][rand_held_num]['item']['name']}\"}\n",
    "    held_item['rarity']= f\"{p_req.json()['held_items'][rand_held_num]['version_details'][-1]['rarity']}\"\n",
    "    # Picks a random number from the possible held items, then pulls that items name into the held item\n",
    "    #  dictionary. Then creates the rarity key, the value is set to the last place in the list of rarities\n",
    "    #  to get the latest pokemon games rarity level.\n",
    "    return [{'name': f'{pokemon.lower()}'}, typings, stats, held_item]\n",
    "poke_info('arbok')"
   ]
  }
 ],
 "metadata": {
  "kernelspec": {
   "display_name": "Python 3",
   "language": "python",
   "name": "python3"
  },
  "language_info": {
   "codemirror_mode": {
    "name": "ipython",
    "version": 3
   },
   "file_extension": ".py",
   "mimetype": "text/x-python",
   "name": "python",
   "nbconvert_exporter": "python",
   "pygments_lexer": "ipython3",
   "version": "3.10.9"
  },
  "orig_nbformat": 4,
  "vscode": {
   "interpreter": {
    "hash": "26de051ba29f2982a8de78e945f0abaf191376122a1563185a90213a26c5da77"
   }
  }
 },
 "nbformat": 4,
 "nbformat_minor": 2
}
