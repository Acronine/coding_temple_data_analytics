{
 "cells": [
  {
   "cell_type": "markdown",
   "metadata": {},
   "source": [
    "### Importing"
   ]
  },
  {
   "cell_type": "code",
   "execution_count": 67,
   "metadata": {},
   "outputs": [],
   "source": [
    "import pandas as pd\n",
    "import plotly.express as px"
   ]
  },
  {
   "cell_type": "code",
   "execution_count": 68,
   "metadata": {},
   "outputs": [
    {
     "data": {
      "text/html": [
       "<div>\n",
       "<style scoped>\n",
       "    .dataframe tbody tr th:only-of-type {\n",
       "        vertical-align: middle;\n",
       "    }\n",
       "\n",
       "    .dataframe tbody tr th {\n",
       "        vertical-align: top;\n",
       "    }\n",
       "\n",
       "    .dataframe thead th {\n",
       "        text-align: right;\n",
       "    }\n",
       "</style>\n",
       "<table border=\"1\" class=\"dataframe\">\n",
       "  <thead>\n",
       "    <tr style=\"text-align: right;\">\n",
       "      <th></th>\n",
       "      <th>City</th>\n",
       "      <th>Country</th>\n",
       "      <th>Venue</th>\n",
       "      <th>Opening act(s)</th>\n",
       "      <th>Attendance (tickets sold / available)</th>\n",
       "      <th>Revenue</th>\n",
       "      <th>Tour</th>\n",
       "    </tr>\n",
       "  </thead>\n",
       "  <tbody>\n",
       "    <tr>\n",
       "      <th>0</th>\n",
       "      <td>Evansville</td>\n",
       "      <td>United States</td>\n",
       "      <td>Roberts Municipal Stadium</td>\n",
       "      <td>Gloriana\\r\\nKellie Pickler</td>\n",
       "      <td>7,463 / 7,463</td>\n",
       "      <td>$360,617</td>\n",
       "      <td>Fearless_Tour</td>\n",
       "    </tr>\n",
       "    <tr>\n",
       "      <th>1</th>\n",
       "      <td>Jonesboro</td>\n",
       "      <td>United States</td>\n",
       "      <td>Convocation Center</td>\n",
       "      <td>Gloriana\\r\\nKellie Pickler</td>\n",
       "      <td>7,822 / 7,822</td>\n",
       "      <td>$340,328</td>\n",
       "      <td>Fearless_Tour</td>\n",
       "    </tr>\n",
       "    <tr>\n",
       "      <th>2</th>\n",
       "      <td>St. Louis</td>\n",
       "      <td>United States</td>\n",
       "      <td>Scottrade Center</td>\n",
       "      <td>Gloriana\\r\\nKellie Pickler</td>\n",
       "      <td>13,764 / 13,764</td>\n",
       "      <td>$650,420</td>\n",
       "      <td>Fearless_Tour</td>\n",
       "    </tr>\n",
       "    <tr>\n",
       "      <th>3</th>\n",
       "      <td>Alexandria</td>\n",
       "      <td>United States</td>\n",
       "      <td>Bishop Ireton High School</td>\n",
       "      <td>Gloriana\\r\\nKellie Pickler</td>\n",
       "      <td>NaN</td>\n",
       "      <td>NaN</td>\n",
       "      <td>Fearless_Tour</td>\n",
       "    </tr>\n",
       "    <tr>\n",
       "      <th>4</th>\n",
       "      <td>North Charleston</td>\n",
       "      <td>United States</td>\n",
       "      <td>North Charleston Coliseum</td>\n",
       "      <td>Gloriana\\r\\nKellie Pickler</td>\n",
       "      <td>8,751 / 8,751</td>\n",
       "      <td>$398,154</td>\n",
       "      <td>Fearless_Tour</td>\n",
       "    </tr>\n",
       "  </tbody>\n",
       "</table>\n",
       "</div>"
      ],
      "text/plain": [
       "               City        Country                      Venue  \\\n",
       "0        Evansville  United States  Roberts Municipal Stadium   \n",
       "1         Jonesboro  United States         Convocation Center   \n",
       "2         St. Louis  United States           Scottrade Center   \n",
       "3        Alexandria  United States  Bishop Ireton High School   \n",
       "4  North Charleston  United States  North Charleston Coliseum   \n",
       "\n",
       "               Opening act(s) Attendance (tickets sold / available)   Revenue  \\\n",
       "0  Gloriana\\r\\nKellie Pickler                         7,463 / 7,463  $360,617   \n",
       "1  Gloriana\\r\\nKellie Pickler                         7,822 / 7,822  $340,328   \n",
       "2  Gloriana\\r\\nKellie Pickler                       13,764 / 13,764  $650,420   \n",
       "3  Gloriana\\r\\nKellie Pickler                                   NaN       NaN   \n",
       "4  Gloriana\\r\\nKellie Pickler                         8,751 / 8,751  $398,154   \n",
       "\n",
       "            Tour  \n",
       "0  Fearless_Tour  \n",
       "1  Fearless_Tour  \n",
       "2  Fearless_Tour  \n",
       "3  Fearless_Tour  \n",
       "4  Fearless_Tour  "
      ]
     },
     "execution_count": 68,
     "metadata": {},
     "output_type": "execute_result"
    }
   ],
   "source": [
    "df = pd.read_csv(r'C:\\Users\\Owner\\Documents\\Coding Temple\\week_6\\day_2\\Taylor_Train.csv',encoding = 'unicode_escape',na_values=\"\")\n",
    "df.head()"
   ]
  },
  {
   "cell_type": "code",
   "execution_count": 69,
   "metadata": {},
   "outputs": [
    {
     "data": {
      "text/html": [
       "<div>\n",
       "<style scoped>\n",
       "    .dataframe tbody tr th:only-of-type {\n",
       "        vertical-align: middle;\n",
       "    }\n",
       "\n",
       "    .dataframe tbody tr th {\n",
       "        vertical-align: top;\n",
       "    }\n",
       "\n",
       "    .dataframe thead th {\n",
       "        text-align: right;\n",
       "    }\n",
       "</style>\n",
       "<table border=\"1\" class=\"dataframe\">\n",
       "  <thead>\n",
       "    <tr style=\"text-align: right;\">\n",
       "      <th></th>\n",
       "      <th>city</th>\n",
       "      <th>country</th>\n",
       "      <th>venue</th>\n",
       "      <th>opening_act(s)</th>\n",
       "      <th>attendance_tickets_sold</th>\n",
       "      <th>revenue</th>\n",
       "      <th>tour</th>\n",
       "    </tr>\n",
       "  </thead>\n",
       "  <tbody>\n",
       "    <tr>\n",
       "      <th>0</th>\n",
       "      <td>Evansville</td>\n",
       "      <td>United States</td>\n",
       "      <td>Roberts Municipal Stadium</td>\n",
       "      <td>Gloriana\\r\\nKellie Pickler</td>\n",
       "      <td>7,463 / 7,463</td>\n",
       "      <td>$360,617</td>\n",
       "      <td>Fearless_Tour</td>\n",
       "    </tr>\n",
       "    <tr>\n",
       "      <th>1</th>\n",
       "      <td>Jonesboro</td>\n",
       "      <td>United States</td>\n",
       "      <td>Convocation Center</td>\n",
       "      <td>Gloriana\\r\\nKellie Pickler</td>\n",
       "      <td>7,822 / 7,822</td>\n",
       "      <td>$340,328</td>\n",
       "      <td>Fearless_Tour</td>\n",
       "    </tr>\n",
       "    <tr>\n",
       "      <th>2</th>\n",
       "      <td>St. Louis</td>\n",
       "      <td>United States</td>\n",
       "      <td>Scottrade Center</td>\n",
       "      <td>Gloriana\\r\\nKellie Pickler</td>\n",
       "      <td>13,764 / 13,764</td>\n",
       "      <td>$650,420</td>\n",
       "      <td>Fearless_Tour</td>\n",
       "    </tr>\n",
       "    <tr>\n",
       "      <th>3</th>\n",
       "      <td>Alexandria</td>\n",
       "      <td>United States</td>\n",
       "      <td>Bishop Ireton High School</td>\n",
       "      <td>Gloriana\\r\\nKellie Pickler</td>\n",
       "      <td>NaN</td>\n",
       "      <td>NaN</td>\n",
       "      <td>Fearless_Tour</td>\n",
       "    </tr>\n",
       "    <tr>\n",
       "      <th>4</th>\n",
       "      <td>North Charleston</td>\n",
       "      <td>United States</td>\n",
       "      <td>North Charleston Coliseum</td>\n",
       "      <td>Gloriana\\r\\nKellie Pickler</td>\n",
       "      <td>8,751 / 8,751</td>\n",
       "      <td>$398,154</td>\n",
       "      <td>Fearless_Tour</td>\n",
       "    </tr>\n",
       "  </tbody>\n",
       "</table>\n",
       "</div>"
      ],
      "text/plain": [
       "               city        country                      venue  \\\n",
       "0        Evansville  United States  Roberts Municipal Stadium   \n",
       "1         Jonesboro  United States         Convocation Center   \n",
       "2         St. Louis  United States           Scottrade Center   \n",
       "3        Alexandria  United States  Bishop Ireton High School   \n",
       "4  North Charleston  United States  North Charleston Coliseum   \n",
       "\n",
       "               opening_act(s) attendance_tickets_sold   revenue           tour  \n",
       "0  Gloriana\\r\\nKellie Pickler           7,463 / 7,463  $360,617  Fearless_Tour  \n",
       "1  Gloriana\\r\\nKellie Pickler           7,822 / 7,822  $340,328  Fearless_Tour  \n",
       "2  Gloriana\\r\\nKellie Pickler         13,764 / 13,764  $650,420  Fearless_Tour  \n",
       "3  Gloriana\\r\\nKellie Pickler                     NaN       NaN  Fearless_Tour  \n",
       "4  Gloriana\\r\\nKellie Pickler           8,751 / 8,751  $398,154  Fearless_Tour  "
      ]
     },
     "execution_count": 69,
     "metadata": {},
     "output_type": "execute_result"
    }
   ],
   "source": [
    "# Correcting the column names, the attendance column is a bit funky but I will be directly fixing it\n",
    "df.columns = df.columns.str.replace(\" \",\"_\").str.strip().str.lower()\n",
    "df.rename(columns={'attendance_(tickets_sold_/_available)':'attendance_tickets_sold'},inplace=True)\n",
    "df.head()"
   ]
  },
  {
   "cell_type": "code",
   "execution_count": 70,
   "metadata": {},
   "outputs": [
    {
     "name": "stdout",
     "output_type": "stream",
     "text": [
      "<class 'pandas.core.frame.DataFrame'>\n",
      "RangeIndex: 445 entries, 0 to 444\n",
      "Data columns (total 7 columns):\n",
      " #   Column                   Non-Null Count  Dtype \n",
      "---  ------                   --------------  ----- \n",
      " 0   city                     445 non-null    object\n",
      " 1   country                  445 non-null    object\n",
      " 2   venue                    445 non-null    object\n",
      " 3   opening_act(s)           414 non-null    object\n",
      " 4   attendance_tickets_sold  407 non-null    object\n",
      " 5   revenue                  406 non-null    object\n",
      " 6   tour                     445 non-null    object\n",
      "dtypes: object(7)\n",
      "memory usage: 24.5+ KB\n"
     ]
    }
   ],
   "source": [
    "df.info()\n",
    "# df['opening_act(s)'].value_counts()"
   ]
  },
  {
   "cell_type": "code",
   "execution_count": 71,
   "metadata": {},
   "outputs": [],
   "source": [
    "df[df['opening_act(s)'].isna() == True]\n",
    "# These Null values are for no opening act.\n",
    "df['opening_act(s)'] = df['opening_act(s)'].fillna(\"No Opening Act\")"
   ]
  },
  {
   "cell_type": "code",
   "execution_count": 72,
   "metadata": {},
   "outputs": [],
   "source": [
    "# The null values in revenue and attendance tickets sold columns are from unreported revenues. Considering the various sizes of venues, I'm going to drop\n",
    "#   the rest of nulls because any of the descriptive statistics would not be a good replacement.\n",
    "df.dropna(inplace=True)"
   ]
  },
  {
   "cell_type": "code",
   "execution_count": 73,
   "metadata": {},
   "outputs": [
    {
     "data": {
      "text/plain": [
       "0          [7,463, 7,463]\n",
       "1          [7,822, 7,822]\n",
       "2        [13,764, 13,764]\n",
       "4          [8,751, 8,751]\n",
       "5        [11,072, 11,072]\n",
       "              ...        \n",
       "440      [72,805, 72,805]\n",
       "441      [43,907, 43,907]\n",
       "442      [35,749, 35,749]\n",
       "443    [100,109, 100,109]\n",
       "444    [100,109, 100,109]\n",
       "Name: attendance_tickets_sold, Length: 406, dtype: object"
      ]
     },
     "execution_count": 73,
     "metadata": {},
     "output_type": "execute_result"
    }
   ],
   "source": [
    "# df.info()\n",
    "# The next tidying to do is separate the attendance sold/available and only use the first(sold) value. This is because the revenue is directly linked to the sold not\n",
    "#   the possibilities that the availability is giving.\n",
    "df['attendance_tickets_sold'] = (df['attendance_tickets_sold'].str.split(\" / \"))\n",
    "df['attendance_tickets_sold']\n"
   ]
  },
  {
   "cell_type": "code",
   "execution_count": 77,
   "metadata": {},
   "outputs": [
    {
     "data": {
      "text/plain": [
       "[7463,\n",
       " 7822,\n",
       " 13764,\n",
       " 8751,\n",
       " 11072,\n",
       " 9436,\n",
       " 6789,\n",
       " 6789,\n",
       " 10798,\n",
       " 12061,\n",
       " 13226,\n",
       " 8970,\n",
       " 13052,\n",
       " 13648,\n",
       " 8311,\n",
       " 10174,\n",
       " 13042,\n",
       " 17619,\n",
       " 14641,\n",
       " 33910,\n",
       " 11369,\n",
       " 13597,\n",
       " 7507,\n",
       " 14269,\n",
       " 13794,\n",
       " 13978,\n",
       " 15524,\n",
       " 13373,\n",
       " 26265,\n",
       " 26265,\n",
       " 13563,\n",
       " 11334,\n",
       " 27030,\n",
       " 27030,\n",
       " 7180,\n",
       " 23493,\n",
       " 23493,\n",
       " 9066,\n",
       " 13861,\n",
       " 11101,\n",
       " 13453,\n",
       " 11928,\n",
       " 14022,\n",
       " 8423,\n",
       " 30360,\n",
       " 30360,\n",
       " 11858,\n",
       " 29125,\n",
       " 29125,\n",
       " 11208,\n",
       " 11795,\n",
       " 11208,\n",
       " 13781,\n",
       " 25991,\n",
       " 25991,\n",
       " 11706,\n",
       " 12744,\n",
       " 27518,\n",
       " 27518,\n",
       " 17966,\n",
       " 13429,\n",
       " 13895,\n",
       " 13264,\n",
       " 14914,\n",
       " 10641,\n",
       " 26065,\n",
       " 26065,\n",
       " 25831,\n",
       " 25831,\n",
       " 13376,\n",
       " 30458,\n",
       " 30458,\n",
       " 23493,\n",
       " 23493,\n",
       " 27290,\n",
       " 27290,\n",
       " 56868,\n",
       " 8964,\n",
       " 4725,\n",
       " 6953,\n",
       " 15955,\n",
       " 15955,\n",
       " 12667,\n",
       " 12573,\n",
       " 4622,\n",
       " 4799,\n",
       " 8650,\n",
       " 6082,\n",
       " 3421,\n",
       " 3598,\n",
       " 3962,\n",
       " 9339,\n",
       " 8058,\n",
       " 8681,\n",
       " 10488,\n",
       " 15265,\n",
       " 26992,\n",
       " 26992,\n",
       " 13149,\n",
       " 24077,\n",
       " 24077,\n",
       " 12262,\n",
       " 14817,\n",
       " 13748,\n",
       " 47992,\n",
       " 28977,\n",
       " 28977,\n",
       " 52009,\n",
       " 14487,\n",
       " 12436,\n",
       " 110800,\n",
       " 110800,\n",
       " 14789,\n",
       " 13754,\n",
       " 13439,\n",
       " 30144,\n",
       " 30144,\n",
       " 51487,\n",
       " 51487,\n",
       " 51487,\n",
       " 51487,\n",
       " 11012,\n",
       " 13329,\n",
       " 14873,\n",
       " 29303,\n",
       " 29303,\n",
       " 51395,\n",
       " 26112,\n",
       " 26112,\n",
       " 27965,\n",
       " 27965,\n",
       " 25336,\n",
       " 25336,\n",
       " 54900,\n",
       " 54900,\n",
       " 54900,\n",
       " 54900,\n",
       " 24827,\n",
       " 24827,\n",
       " 12432,\n",
       " 13610,\n",
       " 19904,\n",
       " 26030,\n",
       " 26030,\n",
       " 28178,\n",
       " 28178,\n",
       " 11510,\n",
       " 12546,\n",
       " 48562,\n",
       " 12908,\n",
       " 13720,\n",
       " 26244,\n",
       " 26244,\n",
       " 13566,\n",
       " 12943,\n",
       " 55451,\n",
       " 14848,\n",
       " 10419,\n",
       " 11592,\n",
       " 10834,\n",
       " 27029,\n",
       " 27029,\n",
       " 13851,\n",
       " 11999,\n",
       " 16237,\n",
       " 12604,\n",
       " 42095,\n",
       " 11785,\n",
       " 13695,\n",
       " 12153,\n",
       " 14272,\n",
       " 13567,\n",
       " 12807,\n",
       " 26652,\n",
       " 26652,\n",
       " 15142,\n",
       " 8589,\n",
       " 19870,\n",
       " 19870,\n",
       " 27900,\n",
       " 27900,\n",
       " 33793,\n",
       " 33793,\n",
       " 33793,\n",
       " 32585,\n",
       " 32585,\n",
       " 32585,\n",
       " 27877,\n",
       " 27877,\n",
       " 28582,\n",
       " 28582,\n",
       " 14686,\n",
       " 12490,\n",
       " 38065,\n",
       " 38065,\n",
       " 38065,\n",
       " 12808,\n",
       " 25617,\n",
       " 25617,\n",
       " 25471,\n",
       " 25471,\n",
       " 14080,\n",
       " 15336,\n",
       " 13573,\n",
       " 17003,\n",
       " 48265,\n",
       " 15135,\n",
       " 14267,\n",
       " 27619,\n",
       " 27619,\n",
       " 12467,\n",
       " 11916,\n",
       " 13974,\n",
       " 53020,\n",
       " 26705,\n",
       " 26705,\n",
       " 14007,\n",
       " 13489,\n",
       " 87627,\n",
       " 87627,\n",
       " 33061,\n",
       " 25663,\n",
       " 25663,\n",
       " 41142,\n",
       " 56047,\n",
       " 52399,\n",
       " 101277,\n",
       " 101277,\n",
       " 110712,\n",
       " 110712,\n",
       " 13368,\n",
       " 26412,\n",
       " 26412,\n",
       " 12231,\n",
       " 10949,\n",
       " 50809,\n",
       " 10872,\n",
       " 55829,\n",
       " 55829,\n",
       " 55829,\n",
       " 55829,\n",
       " 12795,\n",
       " 13952,\n",
       " 20348,\n",
       " 21073,\n",
       " 28920,\n",
       " 28920,\n",
       " 13650,\n",
       " 13941,\n",
       " 12689,\n",
       " 41292,\n",
       " 41292,\n",
       " 41292,\n",
       " 30799,\n",
       " 30799,\n",
       " 30799,\n",
       " 40930,\n",
       " 38907,\n",
       " 21827,\n",
       " 47257,\n",
       " 74740,\n",
       " 74740,\n",
       " 74740,\n",
       " 10350,\n",
       " 12793,\n",
       " 20046,\n",
       " 8130,\n",
       " 9775,\n",
       " 16344,\n",
       " 7525,\n",
       " 100320,\n",
       " 100320,\n",
       " 12459,\n",
       " 50227,\n",
       " 50703,\n",
       " 16242,\n",
       " 15503,\n",
       " 54801,\n",
       " 15024,\n",
       " 13886,\n",
       " 101052,\n",
       " 101052,\n",
       " 29020,\n",
       " 29020,\n",
       " 11166,\n",
       " 11021,\n",
       " 14773,\n",
       " 25188,\n",
       " 25188,\n",
       " 13480,\n",
       " 14770,\n",
       " 110105,\n",
       " 110105,\n",
       " 85014,\n",
       " 85014,\n",
       " 110109,\n",
       " 110109,\n",
       " 116849,\n",
       " 116849,\n",
       " 41463,\n",
       " 26534,\n",
       " 26534,\n",
       " 55711,\n",
       " 102139,\n",
       " 102139,\n",
       " 26520,\n",
       " 26520,\n",
       " 70563,\n",
       " 70563,\n",
       " 70563,\n",
       " 70563,\n",
       " 70563,\n",
       " 44710,\n",
       " 14131,\n",
       " 27126,\n",
       " 27126,\n",
       " 40122,\n",
       " 45126,\n",
       " 45126,\n",
       " 45126,\n",
       " 14010,\n",
       " 29936,\n",
       " 29936,\n",
       " 27857,\n",
       " 27857,\n",
       " 28917,\n",
       " 28917,\n",
       " 29688,\n",
       " 29688,\n",
       " 99283,\n",
       " 99283,\n",
       " 13969,\n",
       " 29622,\n",
       " 29622,\n",
       " 21067,\n",
       " 62630,\n",
       " 17084,\n",
       " 15079,\n",
       " 56046,\n",
       " 14044,\n",
       " 56987,\n",
       " 17726,\n",
       " 17726,\n",
       " 37758,\n",
       " 37758,\n",
       " 37758,\n",
       " 75980,\n",
       " 46881,\n",
       " 20090,\n",
       " 20090,\n",
       " 98136,\n",
       " 98136,\n",
       " 98136,\n",
       " 59157,\n",
       " 107550,\n",
       " 107550,\n",
       " 118084,\n",
       " 118084,\n",
       " 56021,\n",
       " 57140,\n",
       " 105208,\n",
       " 105208,\n",
       " 77258,\n",
       " 77258,\n",
       " 133034,\n",
       " 133034,\n",
       " 143427,\n",
       " 143427,\n",
       " 52138,\n",
       " 62897,\n",
       " 95672,\n",
       " 95672,\n",
       " 107378,\n",
       " 107378,\n",
       " 51323,\n",
       " 165654,\n",
       " 165654,\n",
       " 165654,\n",
       " 174764,\n",
       " 174764,\n",
       " 174764,\n",
       " 100310,\n",
       " 100310,\n",
       " 56445,\n",
       " 116746,\n",
       " 116746,\n",
       " 55909,\n",
       " 47818,\n",
       " 56112,\n",
       " 49464,\n",
       " 98774,\n",
       " 98774,\n",
       " 58611,\n",
       " 55729,\n",
       " 47831,\n",
       " 53172,\n",
       " 53800,\n",
       " 105002,\n",
       " 105002,\n",
       " 50891,\n",
       " 63027,\n",
       " 72805,\n",
       " 43907,\n",
       " 35749,\n",
       " 100109,\n",
       " 100109]"
      ]
     },
     "execution_count": 77,
     "metadata": {},
     "output_type": "execute_result"
    }
   ],
   "source": [
    "#  Grabbing the first number from the attendance tickets, taking the comma out, and appending it to a list. Also setting the data type to an integer type\n",
    "new_list = []\n",
    "for listo in df['attendance_tickets_sold'].tolist():\n",
    "    new_list.append(int(listo[0].replace(',','')))\n",
    "new_list"
   ]
  },
  {
   "cell_type": "code",
   "execution_count": 78,
   "metadata": {},
   "outputs": [
    {
     "data": {
      "text/plain": [
       "0        7463\n",
       "1        7822\n",
       "2       13764\n",
       "4        8751\n",
       "5       11072\n",
       "        ...  \n",
       "440     72805\n",
       "441     43907\n",
       "442     35749\n",
       "443    100109\n",
       "444    100109\n",
       "Name: attendance_tickets_sold, Length: 406, dtype: int64"
      ]
     },
     "execution_count": 78,
     "metadata": {},
     "output_type": "execute_result"
    }
   ],
   "source": [
    "# Setting the attendance column to the clean data\n",
    "df['attendance_tickets_sold'] = new_list\n",
    "df['attendance_tickets_sold']"
   ]
  },
  {
   "cell_type": "code",
   "execution_count": 85,
   "metadata": {},
   "outputs": [],
   "source": [
    "# Separating the multiple opening acts and adding them back as lists.\n",
    "new_list1 = []\n",
    "for listo2 in df['opening_act(s)'].str.split('\\r\\n'):\n",
    "    new_list1.append((listo2))\n",
    "df['opening_act(s)'] = new_list1"
   ]
  },
  {
   "cell_type": "code",
   "execution_count": 89,
   "metadata": {},
   "outputs": [],
   "source": [
    "new_list3 = []\n",
    "for listo3 in df['revenue'].tolist():\n",
    "    new_list3.append(int(listo3.replace(',','').lstrip('$')))\n",
    "df['revenue'] = new_list3"
   ]
  },
  {
   "cell_type": "code",
   "execution_count": 92,
   "metadata": {},
   "outputs": [
    {
     "data": {
      "application/vnd.plotly.v1+json": {
       "config": {
        "plotlyServerURL": "https://plot.ly"
       },
       "data": [
        {
         "alignmentgroup": "True",
         "bingroup": "x",
         "hovertemplate": "attendance_tickets_sold=%{x}<br>count=%{y}<extra></extra>",
         "legendgroup": "",
         "marker": {
          "color": "#636efa",
          "pattern": {
           "shape": ""
          }
         },
         "name": "",
         "offsetgroup": "",
         "orientation": "v",
         "showlegend": false,
         "type": "histogram",
         "x": [
          7463,
          7822,
          13764,
          8751,
          11072,
          9436,
          6789,
          6789,
          10798,
          12061,
          13226,
          8970,
          13052,
          13648,
          8311,
          10174,
          13042,
          17619,
          14641,
          33910,
          11369,
          13597,
          7507,
          14269,
          13794,
          13978,
          15524,
          13373,
          26265,
          26265,
          13563,
          11334,
          27030,
          27030,
          7180,
          23493,
          23493,
          9066,
          13861,
          11101,
          13453,
          11928,
          14022,
          8423,
          30360,
          30360,
          11858,
          29125,
          29125,
          11208,
          11795,
          11208,
          13781,
          25991,
          25991,
          11706,
          12744,
          27518,
          27518,
          17966,
          13429,
          13895,
          13264,
          14914,
          10641,
          26065,
          26065,
          25831,
          25831,
          13376,
          30458,
          30458,
          23493,
          23493,
          27290,
          27290,
          56868,
          8964,
          4725,
          6953,
          15955,
          15955,
          12667,
          12573,
          4622,
          4799,
          8650,
          6082,
          3421,
          3598,
          3962,
          9339,
          8058,
          8681,
          10488,
          15265,
          26992,
          26992,
          13149,
          24077,
          24077,
          12262,
          14817,
          13748,
          47992,
          28977,
          28977,
          52009,
          14487,
          12436,
          110800,
          110800,
          14789,
          13754,
          13439,
          30144,
          30144,
          51487,
          51487,
          51487,
          51487,
          11012,
          13329,
          14873,
          29303,
          29303,
          51395,
          26112,
          26112,
          27965,
          27965,
          25336,
          25336,
          54900,
          54900,
          54900,
          54900,
          24827,
          24827,
          12432,
          13610,
          19904,
          26030,
          26030,
          28178,
          28178,
          11510,
          12546,
          48562,
          12908,
          13720,
          26244,
          26244,
          13566,
          12943,
          55451,
          14848,
          10419,
          11592,
          10834,
          27029,
          27029,
          13851,
          11999,
          16237,
          12604,
          42095,
          11785,
          13695,
          12153,
          14272,
          13567,
          12807,
          26652,
          26652,
          15142,
          8589,
          19870,
          19870,
          27900,
          27900,
          33793,
          33793,
          33793,
          32585,
          32585,
          32585,
          27877,
          27877,
          28582,
          28582,
          14686,
          12490,
          38065,
          38065,
          38065,
          12808,
          25617,
          25617,
          25471,
          25471,
          14080,
          15336,
          13573,
          17003,
          48265,
          15135,
          14267,
          27619,
          27619,
          12467,
          11916,
          13974,
          53020,
          26705,
          26705,
          14007,
          13489,
          87627,
          87627,
          33061,
          25663,
          25663,
          41142,
          56047,
          52399,
          101277,
          101277,
          110712,
          110712,
          13368,
          26412,
          26412,
          12231,
          10949,
          50809,
          10872,
          55829,
          55829,
          55829,
          55829,
          12795,
          13952,
          20348,
          21073,
          28920,
          28920,
          13650,
          13941,
          12689,
          41292,
          41292,
          41292,
          30799,
          30799,
          30799,
          40930,
          38907,
          21827,
          47257,
          74740,
          74740,
          74740,
          10350,
          12793,
          20046,
          8130,
          9775,
          16344,
          7525,
          100320,
          100320,
          12459,
          50227,
          50703,
          16242,
          15503,
          54801,
          15024,
          13886,
          101052,
          101052,
          29020,
          29020,
          11166,
          11021,
          14773,
          25188,
          25188,
          13480,
          14770,
          110105,
          110105,
          85014,
          85014,
          110109,
          110109,
          116849,
          116849,
          41463,
          26534,
          26534,
          55711,
          102139,
          102139,
          26520,
          26520,
          70563,
          70563,
          70563,
          70563,
          70563,
          44710,
          14131,
          27126,
          27126,
          40122,
          45126,
          45126,
          45126,
          14010,
          29936,
          29936,
          27857,
          27857,
          28917,
          28917,
          29688,
          29688,
          99283,
          99283,
          13969,
          29622,
          29622,
          21067,
          62630,
          17084,
          15079,
          56046,
          14044,
          56987,
          17726,
          17726,
          37758,
          37758,
          37758,
          75980,
          46881,
          20090,
          20090,
          98136,
          98136,
          98136,
          59157,
          107550,
          107550,
          118084,
          118084,
          56021,
          57140,
          105208,
          105208,
          77258,
          77258,
          133034,
          133034,
          143427,
          143427,
          52138,
          62897,
          95672,
          95672,
          107378,
          107378,
          51323,
          165654,
          165654,
          165654,
          174764,
          174764,
          174764,
          100310,
          100310,
          56445,
          116746,
          116746,
          55909,
          47818,
          56112,
          49464,
          98774,
          98774,
          58611,
          55729,
          47831,
          53172,
          53800,
          105002,
          105002,
          50891,
          63027,
          72805,
          43907,
          35749,
          100109,
          100109
         ],
         "xaxis": "x",
         "yaxis": "y"
        }
       ],
       "layout": {
        "barmode": "relative",
        "legend": {
         "tracegroupgap": 0
        },
        "margin": {
         "t": 60
        },
        "template": {
         "data": {
          "bar": [
           {
            "error_x": {
             "color": "#2a3f5f"
            },
            "error_y": {
             "color": "#2a3f5f"
            },
            "marker": {
             "line": {
              "color": "#E5ECF6",
              "width": 0.5
             },
             "pattern": {
              "fillmode": "overlay",
              "size": 10,
              "solidity": 0.2
             }
            },
            "type": "bar"
           }
          ],
          "barpolar": [
           {
            "marker": {
             "line": {
              "color": "#E5ECF6",
              "width": 0.5
             },
             "pattern": {
              "fillmode": "overlay",
              "size": 10,
              "solidity": 0.2
             }
            },
            "type": "barpolar"
           }
          ],
          "carpet": [
           {
            "aaxis": {
             "endlinecolor": "#2a3f5f",
             "gridcolor": "white",
             "linecolor": "white",
             "minorgridcolor": "white",
             "startlinecolor": "#2a3f5f"
            },
            "baxis": {
             "endlinecolor": "#2a3f5f",
             "gridcolor": "white",
             "linecolor": "white",
             "minorgridcolor": "white",
             "startlinecolor": "#2a3f5f"
            },
            "type": "carpet"
           }
          ],
          "choropleth": [
           {
            "colorbar": {
             "outlinewidth": 0,
             "ticks": ""
            },
            "type": "choropleth"
           }
          ],
          "contour": [
           {
            "colorbar": {
             "outlinewidth": 0,
             "ticks": ""
            },
            "colorscale": [
             [
              0,
              "#0d0887"
             ],
             [
              0.1111111111111111,
              "#46039f"
             ],
             [
              0.2222222222222222,
              "#7201a8"
             ],
             [
              0.3333333333333333,
              "#9c179e"
             ],
             [
              0.4444444444444444,
              "#bd3786"
             ],
             [
              0.5555555555555556,
              "#d8576b"
             ],
             [
              0.6666666666666666,
              "#ed7953"
             ],
             [
              0.7777777777777778,
              "#fb9f3a"
             ],
             [
              0.8888888888888888,
              "#fdca26"
             ],
             [
              1,
              "#f0f921"
             ]
            ],
            "type": "contour"
           }
          ],
          "contourcarpet": [
           {
            "colorbar": {
             "outlinewidth": 0,
             "ticks": ""
            },
            "type": "contourcarpet"
           }
          ],
          "heatmap": [
           {
            "colorbar": {
             "outlinewidth": 0,
             "ticks": ""
            },
            "colorscale": [
             [
              0,
              "#0d0887"
             ],
             [
              0.1111111111111111,
              "#46039f"
             ],
             [
              0.2222222222222222,
              "#7201a8"
             ],
             [
              0.3333333333333333,
              "#9c179e"
             ],
             [
              0.4444444444444444,
              "#bd3786"
             ],
             [
              0.5555555555555556,
              "#d8576b"
             ],
             [
              0.6666666666666666,
              "#ed7953"
             ],
             [
              0.7777777777777778,
              "#fb9f3a"
             ],
             [
              0.8888888888888888,
              "#fdca26"
             ],
             [
              1,
              "#f0f921"
             ]
            ],
            "type": "heatmap"
           }
          ],
          "heatmapgl": [
           {
            "colorbar": {
             "outlinewidth": 0,
             "ticks": ""
            },
            "colorscale": [
             [
              0,
              "#0d0887"
             ],
             [
              0.1111111111111111,
              "#46039f"
             ],
             [
              0.2222222222222222,
              "#7201a8"
             ],
             [
              0.3333333333333333,
              "#9c179e"
             ],
             [
              0.4444444444444444,
              "#bd3786"
             ],
             [
              0.5555555555555556,
              "#d8576b"
             ],
             [
              0.6666666666666666,
              "#ed7953"
             ],
             [
              0.7777777777777778,
              "#fb9f3a"
             ],
             [
              0.8888888888888888,
              "#fdca26"
             ],
             [
              1,
              "#f0f921"
             ]
            ],
            "type": "heatmapgl"
           }
          ],
          "histogram": [
           {
            "marker": {
             "pattern": {
              "fillmode": "overlay",
              "size": 10,
              "solidity": 0.2
             }
            },
            "type": "histogram"
           }
          ],
          "histogram2d": [
           {
            "colorbar": {
             "outlinewidth": 0,
             "ticks": ""
            },
            "colorscale": [
             [
              0,
              "#0d0887"
             ],
             [
              0.1111111111111111,
              "#46039f"
             ],
             [
              0.2222222222222222,
              "#7201a8"
             ],
             [
              0.3333333333333333,
              "#9c179e"
             ],
             [
              0.4444444444444444,
              "#bd3786"
             ],
             [
              0.5555555555555556,
              "#d8576b"
             ],
             [
              0.6666666666666666,
              "#ed7953"
             ],
             [
              0.7777777777777778,
              "#fb9f3a"
             ],
             [
              0.8888888888888888,
              "#fdca26"
             ],
             [
              1,
              "#f0f921"
             ]
            ],
            "type": "histogram2d"
           }
          ],
          "histogram2dcontour": [
           {
            "colorbar": {
             "outlinewidth": 0,
             "ticks": ""
            },
            "colorscale": [
             [
              0,
              "#0d0887"
             ],
             [
              0.1111111111111111,
              "#46039f"
             ],
             [
              0.2222222222222222,
              "#7201a8"
             ],
             [
              0.3333333333333333,
              "#9c179e"
             ],
             [
              0.4444444444444444,
              "#bd3786"
             ],
             [
              0.5555555555555556,
              "#d8576b"
             ],
             [
              0.6666666666666666,
              "#ed7953"
             ],
             [
              0.7777777777777778,
              "#fb9f3a"
             ],
             [
              0.8888888888888888,
              "#fdca26"
             ],
             [
              1,
              "#f0f921"
             ]
            ],
            "type": "histogram2dcontour"
           }
          ],
          "mesh3d": [
           {
            "colorbar": {
             "outlinewidth": 0,
             "ticks": ""
            },
            "type": "mesh3d"
           }
          ],
          "parcoords": [
           {
            "line": {
             "colorbar": {
              "outlinewidth": 0,
              "ticks": ""
             }
            },
            "type": "parcoords"
           }
          ],
          "pie": [
           {
            "automargin": true,
            "type": "pie"
           }
          ],
          "scatter": [
           {
            "fillpattern": {
             "fillmode": "overlay",
             "size": 10,
             "solidity": 0.2
            },
            "type": "scatter"
           }
          ],
          "scatter3d": [
           {
            "line": {
             "colorbar": {
              "outlinewidth": 0,
              "ticks": ""
             }
            },
            "marker": {
             "colorbar": {
              "outlinewidth": 0,
              "ticks": ""
             }
            },
            "type": "scatter3d"
           }
          ],
          "scattercarpet": [
           {
            "marker": {
             "colorbar": {
              "outlinewidth": 0,
              "ticks": ""
             }
            },
            "type": "scattercarpet"
           }
          ],
          "scattergeo": [
           {
            "marker": {
             "colorbar": {
              "outlinewidth": 0,
              "ticks": ""
             }
            },
            "type": "scattergeo"
           }
          ],
          "scattergl": [
           {
            "marker": {
             "colorbar": {
              "outlinewidth": 0,
              "ticks": ""
             }
            },
            "type": "scattergl"
           }
          ],
          "scattermapbox": [
           {
            "marker": {
             "colorbar": {
              "outlinewidth": 0,
              "ticks": ""
             }
            },
            "type": "scattermapbox"
           }
          ],
          "scatterpolar": [
           {
            "marker": {
             "colorbar": {
              "outlinewidth": 0,
              "ticks": ""
             }
            },
            "type": "scatterpolar"
           }
          ],
          "scatterpolargl": [
           {
            "marker": {
             "colorbar": {
              "outlinewidth": 0,
              "ticks": ""
             }
            },
            "type": "scatterpolargl"
           }
          ],
          "scatterternary": [
           {
            "marker": {
             "colorbar": {
              "outlinewidth": 0,
              "ticks": ""
             }
            },
            "type": "scatterternary"
           }
          ],
          "surface": [
           {
            "colorbar": {
             "outlinewidth": 0,
             "ticks": ""
            },
            "colorscale": [
             [
              0,
              "#0d0887"
             ],
             [
              0.1111111111111111,
              "#46039f"
             ],
             [
              0.2222222222222222,
              "#7201a8"
             ],
             [
              0.3333333333333333,
              "#9c179e"
             ],
             [
              0.4444444444444444,
              "#bd3786"
             ],
             [
              0.5555555555555556,
              "#d8576b"
             ],
             [
              0.6666666666666666,
              "#ed7953"
             ],
             [
              0.7777777777777778,
              "#fb9f3a"
             ],
             [
              0.8888888888888888,
              "#fdca26"
             ],
             [
              1,
              "#f0f921"
             ]
            ],
            "type": "surface"
           }
          ],
          "table": [
           {
            "cells": {
             "fill": {
              "color": "#EBF0F8"
             },
             "line": {
              "color": "white"
             }
            },
            "header": {
             "fill": {
              "color": "#C8D4E3"
             },
             "line": {
              "color": "white"
             }
            },
            "type": "table"
           }
          ]
         },
         "layout": {
          "annotationdefaults": {
           "arrowcolor": "#2a3f5f",
           "arrowhead": 0,
           "arrowwidth": 1
          },
          "autotypenumbers": "strict",
          "coloraxis": {
           "colorbar": {
            "outlinewidth": 0,
            "ticks": ""
           }
          },
          "colorscale": {
           "diverging": [
            [
             0,
             "#8e0152"
            ],
            [
             0.1,
             "#c51b7d"
            ],
            [
             0.2,
             "#de77ae"
            ],
            [
             0.3,
             "#f1b6da"
            ],
            [
             0.4,
             "#fde0ef"
            ],
            [
             0.5,
             "#f7f7f7"
            ],
            [
             0.6,
             "#e6f5d0"
            ],
            [
             0.7,
             "#b8e186"
            ],
            [
             0.8,
             "#7fbc41"
            ],
            [
             0.9,
             "#4d9221"
            ],
            [
             1,
             "#276419"
            ]
           ],
           "sequential": [
            [
             0,
             "#0d0887"
            ],
            [
             0.1111111111111111,
             "#46039f"
            ],
            [
             0.2222222222222222,
             "#7201a8"
            ],
            [
             0.3333333333333333,
             "#9c179e"
            ],
            [
             0.4444444444444444,
             "#bd3786"
            ],
            [
             0.5555555555555556,
             "#d8576b"
            ],
            [
             0.6666666666666666,
             "#ed7953"
            ],
            [
             0.7777777777777778,
             "#fb9f3a"
            ],
            [
             0.8888888888888888,
             "#fdca26"
            ],
            [
             1,
             "#f0f921"
            ]
           ],
           "sequentialminus": [
            [
             0,
             "#0d0887"
            ],
            [
             0.1111111111111111,
             "#46039f"
            ],
            [
             0.2222222222222222,
             "#7201a8"
            ],
            [
             0.3333333333333333,
             "#9c179e"
            ],
            [
             0.4444444444444444,
             "#bd3786"
            ],
            [
             0.5555555555555556,
             "#d8576b"
            ],
            [
             0.6666666666666666,
             "#ed7953"
            ],
            [
             0.7777777777777778,
             "#fb9f3a"
            ],
            [
             0.8888888888888888,
             "#fdca26"
            ],
            [
             1,
             "#f0f921"
            ]
           ]
          },
          "colorway": [
           "#636efa",
           "#EF553B",
           "#00cc96",
           "#ab63fa",
           "#FFA15A",
           "#19d3f3",
           "#FF6692",
           "#B6E880",
           "#FF97FF",
           "#FECB52"
          ],
          "font": {
           "color": "#2a3f5f"
          },
          "geo": {
           "bgcolor": "white",
           "lakecolor": "white",
           "landcolor": "#E5ECF6",
           "showlakes": true,
           "showland": true,
           "subunitcolor": "white"
          },
          "hoverlabel": {
           "align": "left"
          },
          "hovermode": "closest",
          "mapbox": {
           "style": "light"
          },
          "paper_bgcolor": "white",
          "plot_bgcolor": "#E5ECF6",
          "polar": {
           "angularaxis": {
            "gridcolor": "white",
            "linecolor": "white",
            "ticks": ""
           },
           "bgcolor": "#E5ECF6",
           "radialaxis": {
            "gridcolor": "white",
            "linecolor": "white",
            "ticks": ""
           }
          },
          "scene": {
           "xaxis": {
            "backgroundcolor": "#E5ECF6",
            "gridcolor": "white",
            "gridwidth": 2,
            "linecolor": "white",
            "showbackground": true,
            "ticks": "",
            "zerolinecolor": "white"
           },
           "yaxis": {
            "backgroundcolor": "#E5ECF6",
            "gridcolor": "white",
            "gridwidth": 2,
            "linecolor": "white",
            "showbackground": true,
            "ticks": "",
            "zerolinecolor": "white"
           },
           "zaxis": {
            "backgroundcolor": "#E5ECF6",
            "gridcolor": "white",
            "gridwidth": 2,
            "linecolor": "white",
            "showbackground": true,
            "ticks": "",
            "zerolinecolor": "white"
           }
          },
          "shapedefaults": {
           "line": {
            "color": "#2a3f5f"
           }
          },
          "ternary": {
           "aaxis": {
            "gridcolor": "white",
            "linecolor": "white",
            "ticks": ""
           },
           "baxis": {
            "gridcolor": "white",
            "linecolor": "white",
            "ticks": ""
           },
           "bgcolor": "#E5ECF6",
           "caxis": {
            "gridcolor": "white",
            "linecolor": "white",
            "ticks": ""
           }
          },
          "title": {
           "x": 0.05
          },
          "xaxis": {
           "automargin": true,
           "gridcolor": "white",
           "linecolor": "white",
           "ticks": "",
           "title": {
            "standoff": 15
           },
           "zerolinecolor": "white",
           "zerolinewidth": 2
          },
          "yaxis": {
           "automargin": true,
           "gridcolor": "white",
           "linecolor": "white",
           "ticks": "",
           "title": {
            "standoff": 15
           },
           "zerolinecolor": "white",
           "zerolinewidth": 2
          }
         }
        },
        "xaxis": {
         "anchor": "y",
         "domain": [
          0,
          1
         ],
         "title": {
          "text": "attendance_tickets_sold"
         }
        },
        "yaxis": {
         "anchor": "x",
         "domain": [
          0,
          1
         ],
         "title": {
          "text": "count"
         }
        }
       }
      }
     },
     "metadata": {},
     "output_type": "display_data"
    },
    {
     "name": "stdout",
     "output_type": "stream",
     "text": [
      "\n",
      "\n"
     ]
    },
    {
     "data": {
      "application/vnd.plotly.v1+json": {
       "config": {
        "plotlyServerURL": "https://plot.ly"
       },
       "data": [
        {
         "alignmentgroup": "True",
         "bingroup": "x",
         "hovertemplate": "revenue=%{x}<br>count=%{y}<extra></extra>",
         "legendgroup": "",
         "marker": {
          "color": "#636efa",
          "pattern": {
           "shape": ""
          }
         },
         "name": "",
         "offsetgroup": "",
         "orientation": "v",
         "showlegend": false,
         "type": "histogram",
         "x": [
          360617,
          340328,
          650420,
          398154,
          507012,
          437313,
          401328,
          401328,
          482146,
          528637,
          613284,
          413622,
          647923,
          720940,
          551051,
          502689,
          555207,
          608438,
          690959,
          2540906,
          512487,
          976062,
          296306,
          642387,
          628062,
          654089,
          743492,
          634876,
          1150896,
          1150896,
          623975,
          956505,
          2030640,
          2030640,
          555396,
          1627510,
          1627510,
          585352,
          793049,
          598581,
          777442,
          642705,
          742954,
          501169,
          2002321,
          2002321,
          664305,
          1711591,
          1711591,
          645592,
          675184,
          610801,
          761110,
          1497135,
          1497135,
          649488,
          716726,
          1736197,
          1736197,
          1024223,
          755475,
          752303,
          738280,
          846111,
          610668,
          1742669,
          1742669,
          1713529,
          1713529,
          873206,
          2497690,
          2497690,
          1290926,
          1290926,
          1824743,
          1824743,
          3726157,
          916850,
          385374,
          758113,
          1738227,
          1738227,
          859037,
          1030633,
          219212,
          248314,
          815246,
          370028,
          153303,
          201781,
          251864,
          508854,
          379001,
          419806,
          580558,
          891152,
          1717104,
          1717104,
          862771,
          1582951,
          1582951,
          791980,
          955259,
          897042,
          3453549,
          1913737,
          1913737,
          4009118,
          966749,
          810165,
          8026350,
          8026350,
          990701,
          903875,
          1254230,
          3036000,
          3036000,
          3875463,
          3875463,
          3875463,
          3875463,
          724854,
          877175,
          976954,
          2068789,
          2068789,
          4268678,
          1909603,
          1909603,
          1850159,
          1850159,
          2136270,
          2136270,
          3927154,
          3927154,
          3927154,
          3927154,
          1825448,
          1825448,
          934326,
          903445,
          1289430,
          2190680,
          2190680,
          1841134,
          1841134,
          728546,
          907573,
          3148046,
          834916,
          896946,
          1726661,
          1726661,
          856123,
          830289,
          4337062,
          1003828,
          710426,
          758364,
          792634,
          1826025,
          1826025,
          901535,
          752078,
          1041935,
          820036,
          3435756,
          749099,
          914300,
          786904,
          920903,
          866056,
          828231,
          1988411,
          1988411,
          1878530,
          1075370,
          2416030,
          2416030,
          3420360,
          3420360,
          4151650,
          4151650,
          4151650,
          2888560,
          2888560,
          2888560,
          2243164,
          2243164,
          2346203,
          2346203,
          1162733,
          996114,
          3565317,
          3565317,
          3565317,
          1010175,
          2054128,
          2054128,
          2048023,
          2048023,
          1132095,
          1247605,
          1082042,
          1342699,
          3969059,
          1246491,
          1155170,
          2489205,
          2489205,
          961422,
          935631,
          1105253,
          4589266,
          2239370,
          2239370,
          1139360,
          1076069,
          7863310,
          7863310,
          3175430,
          2379870,
          2379870,
          3974410,
          4718518,
          4670011,
          8822335,
          8822335,
          9464063,
          9464063,
          1075576,
          2093172,
          2093172,
          983882,
          868955,
          4149148,
          948541,
          4734463,
          4734463,
          4734463,
          4734463,
          1138103,
          1084760,
          1584049,
          1661578,
          2320937,
          2320937,
          1109253,
          1088612,
          997216,
          3336545,
          3336545,
          3336545,
          3100290,
          3100290,
          3100290,
          4096060,
          3895810,
          2364080,
          4547250,
          5829240,
          5829240,
          5829240,
          755006,
          1864934,
          1837147,
          1481473,
          1511662,
          2524080,
          998608,
          10586828,
          10586828,
          1458197,
          4119670,
          5999690,
          1863281,
          1732041,
          5836926,
          1627798,
          1653762,
          11987816,
          11987816,
          2054690,
          2054690,
          800829,
          1119300,
          1478760,
          1975510,
          1975510,
          1325480,
          1499040,
          13423858,
          13423858,
          9730596,
          9730596,
          11469887,
          11469887,
          12533166,
          12533166,
          4081820,
          2387080,
          2387080,
          6050643,
          13031146,
          13031146,
          3029628,
          3029628,
          8961681,
          8961681,
          8961681,
          8961681,
          8961681,
          5475237,
          1589686,
          2868991,
          2868991,
          5202196,
          5514863,
          5514863,
          5514863,
          1550268,
          3369693,
          3369693,
          2967558,
          2967558,
          3354844,
          3354844,
          3452940,
          3452940,
          8670990,
          8670990,
          1566321,
          3121421,
          3121421,
          2219188,
          7396733,
          1870471,
          1662171,
          6034846,
          1527919,
          6202515,
          3217569,
          3217569,
          5917348,
          5917348,
          5917348,
          6571683,
          4759471,
          2407499,
          2407499,
          10421553,
          10421553,
          10421553,
          7214478,
          14006963,
          14006963,
          16251980,
          16251980,
          8672219,
          7926366,
          14576697,
          14576697,
          6169724,
          6169724,
          8567769,
          8567769,
          12214933,
          12214933,
          4928219,
          6606529,
          11396004,
          11396004,
          11951047,
          11951047,
          5148757,
          22031386,
          22031386,
          22031386,
          21779846,
          21779846,
          21779846,
          11177000,
          11177000,
          6230876,
          18089415,
          18089415,
          7244264,
          7072164,
          9007179,
          6597852,
          10242024,
          10242024,
          6730138,
          6531245,
          4884054,
          6491546,
          9350275,
          15006157,
          15006157,
          4153658,
          6755570,
          7686564,
          4338127,
          3617593,
          14859847,
          14859847
         ],
         "xaxis": "x",
         "yaxis": "y"
        }
       ],
       "layout": {
        "barmode": "relative",
        "legend": {
         "tracegroupgap": 0
        },
        "margin": {
         "t": 60
        },
        "template": {
         "data": {
          "bar": [
           {
            "error_x": {
             "color": "#2a3f5f"
            },
            "error_y": {
             "color": "#2a3f5f"
            },
            "marker": {
             "line": {
              "color": "#E5ECF6",
              "width": 0.5
             },
             "pattern": {
              "fillmode": "overlay",
              "size": 10,
              "solidity": 0.2
             }
            },
            "type": "bar"
           }
          ],
          "barpolar": [
           {
            "marker": {
             "line": {
              "color": "#E5ECF6",
              "width": 0.5
             },
             "pattern": {
              "fillmode": "overlay",
              "size": 10,
              "solidity": 0.2
             }
            },
            "type": "barpolar"
           }
          ],
          "carpet": [
           {
            "aaxis": {
             "endlinecolor": "#2a3f5f",
             "gridcolor": "white",
             "linecolor": "white",
             "minorgridcolor": "white",
             "startlinecolor": "#2a3f5f"
            },
            "baxis": {
             "endlinecolor": "#2a3f5f",
             "gridcolor": "white",
             "linecolor": "white",
             "minorgridcolor": "white",
             "startlinecolor": "#2a3f5f"
            },
            "type": "carpet"
           }
          ],
          "choropleth": [
           {
            "colorbar": {
             "outlinewidth": 0,
             "ticks": ""
            },
            "type": "choropleth"
           }
          ],
          "contour": [
           {
            "colorbar": {
             "outlinewidth": 0,
             "ticks": ""
            },
            "colorscale": [
             [
              0,
              "#0d0887"
             ],
             [
              0.1111111111111111,
              "#46039f"
             ],
             [
              0.2222222222222222,
              "#7201a8"
             ],
             [
              0.3333333333333333,
              "#9c179e"
             ],
             [
              0.4444444444444444,
              "#bd3786"
             ],
             [
              0.5555555555555556,
              "#d8576b"
             ],
             [
              0.6666666666666666,
              "#ed7953"
             ],
             [
              0.7777777777777778,
              "#fb9f3a"
             ],
             [
              0.8888888888888888,
              "#fdca26"
             ],
             [
              1,
              "#f0f921"
             ]
            ],
            "type": "contour"
           }
          ],
          "contourcarpet": [
           {
            "colorbar": {
             "outlinewidth": 0,
             "ticks": ""
            },
            "type": "contourcarpet"
           }
          ],
          "heatmap": [
           {
            "colorbar": {
             "outlinewidth": 0,
             "ticks": ""
            },
            "colorscale": [
             [
              0,
              "#0d0887"
             ],
             [
              0.1111111111111111,
              "#46039f"
             ],
             [
              0.2222222222222222,
              "#7201a8"
             ],
             [
              0.3333333333333333,
              "#9c179e"
             ],
             [
              0.4444444444444444,
              "#bd3786"
             ],
             [
              0.5555555555555556,
              "#d8576b"
             ],
             [
              0.6666666666666666,
              "#ed7953"
             ],
             [
              0.7777777777777778,
              "#fb9f3a"
             ],
             [
              0.8888888888888888,
              "#fdca26"
             ],
             [
              1,
              "#f0f921"
             ]
            ],
            "type": "heatmap"
           }
          ],
          "heatmapgl": [
           {
            "colorbar": {
             "outlinewidth": 0,
             "ticks": ""
            },
            "colorscale": [
             [
              0,
              "#0d0887"
             ],
             [
              0.1111111111111111,
              "#46039f"
             ],
             [
              0.2222222222222222,
              "#7201a8"
             ],
             [
              0.3333333333333333,
              "#9c179e"
             ],
             [
              0.4444444444444444,
              "#bd3786"
             ],
             [
              0.5555555555555556,
              "#d8576b"
             ],
             [
              0.6666666666666666,
              "#ed7953"
             ],
             [
              0.7777777777777778,
              "#fb9f3a"
             ],
             [
              0.8888888888888888,
              "#fdca26"
             ],
             [
              1,
              "#f0f921"
             ]
            ],
            "type": "heatmapgl"
           }
          ],
          "histogram": [
           {
            "marker": {
             "pattern": {
              "fillmode": "overlay",
              "size": 10,
              "solidity": 0.2
             }
            },
            "type": "histogram"
           }
          ],
          "histogram2d": [
           {
            "colorbar": {
             "outlinewidth": 0,
             "ticks": ""
            },
            "colorscale": [
             [
              0,
              "#0d0887"
             ],
             [
              0.1111111111111111,
              "#46039f"
             ],
             [
              0.2222222222222222,
              "#7201a8"
             ],
             [
              0.3333333333333333,
              "#9c179e"
             ],
             [
              0.4444444444444444,
              "#bd3786"
             ],
             [
              0.5555555555555556,
              "#d8576b"
             ],
             [
              0.6666666666666666,
              "#ed7953"
             ],
             [
              0.7777777777777778,
              "#fb9f3a"
             ],
             [
              0.8888888888888888,
              "#fdca26"
             ],
             [
              1,
              "#f0f921"
             ]
            ],
            "type": "histogram2d"
           }
          ],
          "histogram2dcontour": [
           {
            "colorbar": {
             "outlinewidth": 0,
             "ticks": ""
            },
            "colorscale": [
             [
              0,
              "#0d0887"
             ],
             [
              0.1111111111111111,
              "#46039f"
             ],
             [
              0.2222222222222222,
              "#7201a8"
             ],
             [
              0.3333333333333333,
              "#9c179e"
             ],
             [
              0.4444444444444444,
              "#bd3786"
             ],
             [
              0.5555555555555556,
              "#d8576b"
             ],
             [
              0.6666666666666666,
              "#ed7953"
             ],
             [
              0.7777777777777778,
              "#fb9f3a"
             ],
             [
              0.8888888888888888,
              "#fdca26"
             ],
             [
              1,
              "#f0f921"
             ]
            ],
            "type": "histogram2dcontour"
           }
          ],
          "mesh3d": [
           {
            "colorbar": {
             "outlinewidth": 0,
             "ticks": ""
            },
            "type": "mesh3d"
           }
          ],
          "parcoords": [
           {
            "line": {
             "colorbar": {
              "outlinewidth": 0,
              "ticks": ""
             }
            },
            "type": "parcoords"
           }
          ],
          "pie": [
           {
            "automargin": true,
            "type": "pie"
           }
          ],
          "scatter": [
           {
            "fillpattern": {
             "fillmode": "overlay",
             "size": 10,
             "solidity": 0.2
            },
            "type": "scatter"
           }
          ],
          "scatter3d": [
           {
            "line": {
             "colorbar": {
              "outlinewidth": 0,
              "ticks": ""
             }
            },
            "marker": {
             "colorbar": {
              "outlinewidth": 0,
              "ticks": ""
             }
            },
            "type": "scatter3d"
           }
          ],
          "scattercarpet": [
           {
            "marker": {
             "colorbar": {
              "outlinewidth": 0,
              "ticks": ""
             }
            },
            "type": "scattercarpet"
           }
          ],
          "scattergeo": [
           {
            "marker": {
             "colorbar": {
              "outlinewidth": 0,
              "ticks": ""
             }
            },
            "type": "scattergeo"
           }
          ],
          "scattergl": [
           {
            "marker": {
             "colorbar": {
              "outlinewidth": 0,
              "ticks": ""
             }
            },
            "type": "scattergl"
           }
          ],
          "scattermapbox": [
           {
            "marker": {
             "colorbar": {
              "outlinewidth": 0,
              "ticks": ""
             }
            },
            "type": "scattermapbox"
           }
          ],
          "scatterpolar": [
           {
            "marker": {
             "colorbar": {
              "outlinewidth": 0,
              "ticks": ""
             }
            },
            "type": "scatterpolar"
           }
          ],
          "scatterpolargl": [
           {
            "marker": {
             "colorbar": {
              "outlinewidth": 0,
              "ticks": ""
             }
            },
            "type": "scatterpolargl"
           }
          ],
          "scatterternary": [
           {
            "marker": {
             "colorbar": {
              "outlinewidth": 0,
              "ticks": ""
             }
            },
            "type": "scatterternary"
           }
          ],
          "surface": [
           {
            "colorbar": {
             "outlinewidth": 0,
             "ticks": ""
            },
            "colorscale": [
             [
              0,
              "#0d0887"
             ],
             [
              0.1111111111111111,
              "#46039f"
             ],
             [
              0.2222222222222222,
              "#7201a8"
             ],
             [
              0.3333333333333333,
              "#9c179e"
             ],
             [
              0.4444444444444444,
              "#bd3786"
             ],
             [
              0.5555555555555556,
              "#d8576b"
             ],
             [
              0.6666666666666666,
              "#ed7953"
             ],
             [
              0.7777777777777778,
              "#fb9f3a"
             ],
             [
              0.8888888888888888,
              "#fdca26"
             ],
             [
              1,
              "#f0f921"
             ]
            ],
            "type": "surface"
           }
          ],
          "table": [
           {
            "cells": {
             "fill": {
              "color": "#EBF0F8"
             },
             "line": {
              "color": "white"
             }
            },
            "header": {
             "fill": {
              "color": "#C8D4E3"
             },
             "line": {
              "color": "white"
             }
            },
            "type": "table"
           }
          ]
         },
         "layout": {
          "annotationdefaults": {
           "arrowcolor": "#2a3f5f",
           "arrowhead": 0,
           "arrowwidth": 1
          },
          "autotypenumbers": "strict",
          "coloraxis": {
           "colorbar": {
            "outlinewidth": 0,
            "ticks": ""
           }
          },
          "colorscale": {
           "diverging": [
            [
             0,
             "#8e0152"
            ],
            [
             0.1,
             "#c51b7d"
            ],
            [
             0.2,
             "#de77ae"
            ],
            [
             0.3,
             "#f1b6da"
            ],
            [
             0.4,
             "#fde0ef"
            ],
            [
             0.5,
             "#f7f7f7"
            ],
            [
             0.6,
             "#e6f5d0"
            ],
            [
             0.7,
             "#b8e186"
            ],
            [
             0.8,
             "#7fbc41"
            ],
            [
             0.9,
             "#4d9221"
            ],
            [
             1,
             "#276419"
            ]
           ],
           "sequential": [
            [
             0,
             "#0d0887"
            ],
            [
             0.1111111111111111,
             "#46039f"
            ],
            [
             0.2222222222222222,
             "#7201a8"
            ],
            [
             0.3333333333333333,
             "#9c179e"
            ],
            [
             0.4444444444444444,
             "#bd3786"
            ],
            [
             0.5555555555555556,
             "#d8576b"
            ],
            [
             0.6666666666666666,
             "#ed7953"
            ],
            [
             0.7777777777777778,
             "#fb9f3a"
            ],
            [
             0.8888888888888888,
             "#fdca26"
            ],
            [
             1,
             "#f0f921"
            ]
           ],
           "sequentialminus": [
            [
             0,
             "#0d0887"
            ],
            [
             0.1111111111111111,
             "#46039f"
            ],
            [
             0.2222222222222222,
             "#7201a8"
            ],
            [
             0.3333333333333333,
             "#9c179e"
            ],
            [
             0.4444444444444444,
             "#bd3786"
            ],
            [
             0.5555555555555556,
             "#d8576b"
            ],
            [
             0.6666666666666666,
             "#ed7953"
            ],
            [
             0.7777777777777778,
             "#fb9f3a"
            ],
            [
             0.8888888888888888,
             "#fdca26"
            ],
            [
             1,
             "#f0f921"
            ]
           ]
          },
          "colorway": [
           "#636efa",
           "#EF553B",
           "#00cc96",
           "#ab63fa",
           "#FFA15A",
           "#19d3f3",
           "#FF6692",
           "#B6E880",
           "#FF97FF",
           "#FECB52"
          ],
          "font": {
           "color": "#2a3f5f"
          },
          "geo": {
           "bgcolor": "white",
           "lakecolor": "white",
           "landcolor": "#E5ECF6",
           "showlakes": true,
           "showland": true,
           "subunitcolor": "white"
          },
          "hoverlabel": {
           "align": "left"
          },
          "hovermode": "closest",
          "mapbox": {
           "style": "light"
          },
          "paper_bgcolor": "white",
          "plot_bgcolor": "#E5ECF6",
          "polar": {
           "angularaxis": {
            "gridcolor": "white",
            "linecolor": "white",
            "ticks": ""
           },
           "bgcolor": "#E5ECF6",
           "radialaxis": {
            "gridcolor": "white",
            "linecolor": "white",
            "ticks": ""
           }
          },
          "scene": {
           "xaxis": {
            "backgroundcolor": "#E5ECF6",
            "gridcolor": "white",
            "gridwidth": 2,
            "linecolor": "white",
            "showbackground": true,
            "ticks": "",
            "zerolinecolor": "white"
           },
           "yaxis": {
            "backgroundcolor": "#E5ECF6",
            "gridcolor": "white",
            "gridwidth": 2,
            "linecolor": "white",
            "showbackground": true,
            "ticks": "",
            "zerolinecolor": "white"
           },
           "zaxis": {
            "backgroundcolor": "#E5ECF6",
            "gridcolor": "white",
            "gridwidth": 2,
            "linecolor": "white",
            "showbackground": true,
            "ticks": "",
            "zerolinecolor": "white"
           }
          },
          "shapedefaults": {
           "line": {
            "color": "#2a3f5f"
           }
          },
          "ternary": {
           "aaxis": {
            "gridcolor": "white",
            "linecolor": "white",
            "ticks": ""
           },
           "baxis": {
            "gridcolor": "white",
            "linecolor": "white",
            "ticks": ""
           },
           "bgcolor": "#E5ECF6",
           "caxis": {
            "gridcolor": "white",
            "linecolor": "white",
            "ticks": ""
           }
          },
          "title": {
           "x": 0.05
          },
          "xaxis": {
           "automargin": true,
           "gridcolor": "white",
           "linecolor": "white",
           "ticks": "",
           "title": {
            "standoff": 15
           },
           "zerolinecolor": "white",
           "zerolinewidth": 2
          },
          "yaxis": {
           "automargin": true,
           "gridcolor": "white",
           "linecolor": "white",
           "ticks": "",
           "title": {
            "standoff": 15
           },
           "zerolinecolor": "white",
           "zerolinewidth": 2
          }
         }
        },
        "xaxis": {
         "anchor": "y",
         "domain": [
          0,
          1
         ],
         "title": {
          "text": "revenue"
         }
        },
        "yaxis": {
         "anchor": "x",
         "domain": [
          0,
          1
         ],
         "title": {
          "text": "count"
         }
        }
       }
      }
     },
     "metadata": {},
     "output_type": "display_data"
    },
    {
     "name": "stdout",
     "output_type": "stream",
     "text": [
      "\n",
      "\n"
     ]
    }
   ],
   "source": [
    "def logan_func(df:pd.DataFrame):\n",
    "    for col in df.keys():\n",
    "        if df[col].dtype !='O':\n",
    "            display(px.histogram(df, x=df[col]))\n",
    "            print('\\n')\n",
    "\n",
    "logan_func(df)"
   ]
  },
  {
   "cell_type": "markdown",
   "metadata": {},
   "source": [
    "Both graphs have positive skews."
   ]
  },
  {
   "cell_type": "code",
   "execution_count": 91,
   "metadata": {},
   "outputs": [
    {
     "name": "stdout",
     "output_type": "stream",
     "text": [
      "<class 'pandas.core.frame.DataFrame'>\n",
      "Index: 406 entries, 0 to 444\n",
      "Data columns (total 7 columns):\n",
      " #   Column                   Non-Null Count  Dtype \n",
      "---  ------                   --------------  ----- \n",
      " 0   city                     406 non-null    object\n",
      " 1   country                  406 non-null    object\n",
      " 2   venue                    406 non-null    object\n",
      " 3   opening_act(s)           406 non-null    object\n",
      " 4   attendance_tickets_sold  406 non-null    int64 \n",
      " 5   revenue                  406 non-null    int64 \n",
      " 6   tour                     406 non-null    object\n",
      "dtypes: int64(2), object(5)\n",
      "memory usage: 25.4+ KB\n"
     ]
    }
   ],
   "source": [
    "# Saving the DataFrame to a csv file to then pull up on Tableau.\n",
    "df.info()\n",
    "df.to_csv('tswift.csv')"
   ]
  }
 ],
 "metadata": {
  "kernelspec": {
   "display_name": "Python 3",
   "language": "python",
   "name": "python3"
  },
  "language_info": {
   "codemirror_mode": {
    "name": "ipython",
    "version": 3
   },
   "file_extension": ".py",
   "mimetype": "text/x-python",
   "name": "python",
   "nbconvert_exporter": "python",
   "pygments_lexer": "ipython3",
   "version": "3.11.4"
  },
  "orig_nbformat": 4
 },
 "nbformat": 4,
 "nbformat_minor": 2
}
