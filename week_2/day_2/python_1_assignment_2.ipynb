{
 "cells": [
  {
   "attachments": {},
   "cell_type": "markdown",
   "metadata": {},
   "source": [
    "# Coding Temple's Data Analytics Course\n",
    "---\n",
    "## Python 1: Assignment 2\n",
    "---"
   ]
  },
  {
   "attachments": {},
   "cell_type": "markdown",
   "metadata": {},
   "source": [
    "### **Task 1: List Comprehension**\n",
    "Given a list as a parameter, write a function named `less_than_10`, that uses list comprehension to returns the input list with all numbers less than 10."
   ]
  },
  {
   "cell_type": "code",
   "execution_count": 6,
   "metadata": {},
   "outputs": [],
   "source": [
    "# YOUR CODE HERE\n",
    "def less_than_10(number_list: list):\n",
    "    \"\"\"To go through a list and return all numbers less than 10 into a list.\"\"\"\n",
    "    return [number for number in number_list if number < 10]"
   ]
  },
  {
   "attachments": {},
   "cell_type": "markdown",
   "metadata": {},
   "source": [
    "### **Task 1 Testing**\n",
    "This cell is to test your task 1"
   ]
  },
  {
   "cell_type": "code",
   "execution_count": 3,
   "metadata": {},
   "outputs": [],
   "source": [
    "# DO NOT EDIT THIS CELL\n",
    "a = [1,2,5,9,55,781,25,478,15,7,99]\n",
    "a_test = [1,2,5,9,7]\n",
    "assert less_than_10(a) == a_test, 'Double check that your function is working properly!'"
   ]
  },
  {
   "attachments": {},
   "cell_type": "markdown",
   "metadata": {},
   "source": [
    "### **Task 2: Merge**\n",
    "Write a function named `merge_lists` that takes two seperate lists as arguments and returns the two lists merged together AND sorted."
   ]
  },
  {
   "cell_type": "code",
   "execution_count": 11,
   "metadata": {},
   "outputs": [],
   "source": [
    "# YOUR CODE HERE\n",
    "def merge_lists(list_1: list, list_2: list):\n",
    "    '''Merges two lists together and then spits it back sorted.'''\n",
    "    return sorted(list_1 + list_2)"
   ]
  },
  {
   "attachments": {},
   "cell_type": "markdown",
   "metadata": {},
   "source": [
    "### **Task 2 Testing**\n",
    "This cell is to test your task 2"
   ]
  },
  {
   "cell_type": "code",
   "execution_count": 13,
   "metadata": {},
   "outputs": [],
   "source": [
    "l_1 = [1,5,4]\n",
    "l_2 = [2,6,3]\n",
    "answer = [1,2,3,4,5,6]\n",
    "assert merge_lists(l_1, l_2) == answer, 'Double Check your function is performing properly!'"
   ]
  },
  {
   "attachments": {},
   "cell_type": "markdown",
   "metadata": {},
   "source": [
    "### **Task 3.1: List Creation**\n",
    "Create a three seperate lists. Save these lists as:\n",
    "* `first_names`: List of 10 first names\n",
    "* `middle_names`: List of 10 middle names\n",
    "* `last_names`: List of 10 last names"
   ]
  },
  {
   "cell_type": "code",
   "execution_count": 18,
   "metadata": {},
   "outputs": [],
   "source": [
    "# YOUR CODE HERE\n",
    "first_names =['Ethan', 'Olivia', 'Liam', 'Ava', 'Noah', 'Isabelle', 'Mason', 'Sophia', 'Benjamin', 'Emma',]\n",
    "middle_names =['Alexander', 'Grace', 'Benjamin', 'Elizabeth', 'Samuel', 'Rose', 'James', 'Grace', 'Michael', 'Charlotte',]\n",
    "last_names =['Mitchell', 'Anderson', 'Collins', 'Parker', 'Turner', 'Foster', 'Bennett', 'Sullivan', 'Carter', 'Reynolds',]"
   ]
  },
  {
   "attachments": {},
   "cell_type": "markdown",
   "metadata": {},
   "source": [
    "### **Task 3.2: Range Function**\n",
    "Using the three lists you created in the last task, build a function named `name_generator` which takes in each of these lists as an input and performs the following:\n",
    "\n",
    "* Iterates through each list using a range\n",
    "* Creates a `full_name` variable, which has a first, middle, and last name\n",
    "* Saves the `full_name` to the list `full_names`\n",
    "* Returns the `full_names` list"
   ]
  },
  {
   "cell_type": "code",
   "execution_count": 23,
   "metadata": {},
   "outputs": [
    {
     "data": {
      "text/plain": [
       "['Ethan Alexander Mitchell',\n",
       " 'Olivia Grace Anderson',\n",
       " 'Liam Benjamin Collins',\n",
       " 'Ava Elizabeth Parker',\n",
       " 'Noah Samuel Turner',\n",
       " 'Isabelle Rose Foster',\n",
       " 'Mason James Bennett',\n",
       " 'Sophia Grace Sullivan',\n",
       " 'Benjamin Michael Carter',\n",
       " 'Emma Charlotte Reynolds']"
      ]
     },
     "execution_count": 23,
     "metadata": {},
     "output_type": "execute_result"
    }
   ],
   "source": [
    "# YOUR CODE HERE\n",
    "def name_generator(first: list, middle: list, last: list):\n",
    "    '''\n",
    "    To combine three different indexed objects in three separate lists together \n",
    "    into a full name and spit it out as a list. Assumes each person has all three names.\n",
    "    '''\n",
    "    return [f\"{first_name} {middle_name} {last_name}\" for first_name,middle_name,last_name in zip(first,middle,last)]\n",
    "\n",
    "name_generator(first_names,middle_names,last_names)"
   ]
  },
  {
   "attachments": {},
   "cell_type": "markdown",
   "metadata": {},
   "source": [
    "### **Task 3 Testing**\n",
    "This cell is to test your task 3"
   ]
  },
  {
   "cell_type": "code",
   "execution_count": 22,
   "metadata": {},
   "outputs": [],
   "source": [
    "# DO NOT EDIT THIS CELL\n",
    "first = ['Alex', 'Brandon', 'Nick']\n",
    "middle = ['The Rock', 'The Paper', 'The Scissors']\n",
    "last = ['Lucchesi', 'Apol', 'Fuentes']\n",
    "answer = ['Alex The Rock Lucchesi','Brandon The Paper Apol','Nick The Scissors Fuentes']\n",
    "assert name_generator(first,middle,last) == answer, 'Double check that your function is performing the way it is supposed to!'"
   ]
  },
  {
   "attachments": {},
   "cell_type": "markdown",
   "metadata": {},
   "source": [
    "### **Task 4: User Functions**\n",
    "For this task, you will create a function named `user_input` which:\n",
    "* Asks a user to input their favorite activity or type 'n'\n",
    "* Repeats until the user types 'n'\n",
    "* Stores all user inputs to a list\n",
    "* Returns that list if a print statement when user types 'n'"
   ]
  },
  {
   "cell_type": "code",
   "execution_count": 28,
   "metadata": {},
   "outputs": [
    {
     "name": "stdout",
     "output_type": "stream",
     "text": [
      "['fasdfasdfasdfasd', 'fas', '', 'a', 'f', 'asd', 'f', 'asd', 'fa', '', 'nd', 'dnnnnn']\n"
     ]
    }
   ],
   "source": [
    "# YOUR CODE HERE\n",
    "def user_input():\n",
    "    '''\n",
    "    Asks a user for their favorite activities. Once the user is done and types \"n\", the program ends\n",
    "    and returns the user's inputs in a print statement as a list.\n",
    "    '''\n",
    "    user_list=[]\n",
    "    user_input_boolean = True\n",
    "    while user_input_boolean:\n",
    "        answer= input(\"What is your favorite activity?: \\ntype 'n' when you are finished!\")\n",
    "        if answer == \"n\":\n",
    "            user_input_boolean = False\n",
    "        else:\n",
    "            user_list.append(answer)\n",
    "    return print(user_list)\n",
    "\n",
    "user_input()\n"
   ]
  }
 ],
 "metadata": {
  "kernelspec": {
   "display_name": "Python 3",
   "language": "python",
   "name": "python3"
  },
  "language_info": {
   "codemirror_mode": {
    "name": "ipython",
    "version": 3
   },
   "file_extension": ".py",
   "mimetype": "text/x-python",
   "name": "python",
   "nbconvert_exporter": "python",
   "pygments_lexer": "ipython3",
   "version": "3.10.9"
  },
  "orig_nbformat": 4,
  "vscode": {
   "interpreter": {
    "hash": "26de051ba29f2982a8de78e945f0abaf191376122a1563185a90213a26c5da77"
   }
  }
 },
 "nbformat": 4,
 "nbformat_minor": 2
}
