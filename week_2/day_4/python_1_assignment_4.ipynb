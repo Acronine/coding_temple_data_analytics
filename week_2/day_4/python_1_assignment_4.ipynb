{
 "cells": [
  {
   "attachments": {},
   "cell_type": "markdown",
   "metadata": {},
   "source": [
    "# Coding Temple's Data Analytics Program\n",
    "---\n",
    "## Python Basics Assignment 4\n",
    "---"
   ]
  },
  {
   "attachments": {},
   "cell_type": "markdown",
   "metadata": {},
   "source": [
    "### **Task 1: Update Shopping Cart**\n",
    "Using the shopping cart you created yesterday as a blueprint, create a shopping cart using object-oriented programming. This shopping cart should maintain all functionality that you currently have in your blueprint."
   ]
  },
  {
   "cell_type": "code",
   "execution_count": 16,
   "metadata": {},
   "outputs": [
    {
     "name": "stdout",
     "output_type": "stream",
     "text": [
      "Your shopping cart list is: \n",
      "[]\n"
     ]
    }
   ],
   "source": [
    "# YOUR CODE HERE\n",
    "class ShoppingCart:\n",
    "    \"\"\"\n",
    "    The ShoppingCart class will have a list of items it will \n",
    "    keep track for the user.\n",
    "    \n",
    "    The attributes for this class:\n",
    "        -Invalid: a repeatable string to tell the user for invalid inputs.\n",
    "        -Shopping: A boolean to control when to turn off the objects program.\n",
    "        -Items: A list of str the user puts into the object.\n",
    "        -Answer: A string that the user feeds into to operate the program.\n",
    "        \n",
    "    The methods for this class will be:\n",
    "        -Quit: This will set the shopping to false to shut off the central loop.\n",
    "        -Show: Prints each item in the list Items.\n",
    "        -Add: A loop, adds to the cart and will check for quit and back to leave.\n",
    "        -Delete Single: A loop, deletes single items the user inputs. \n",
    "            Checks for quit and back to leave.\n",
    "        -Clear: A loop, double checks if the user wants to set the list to null.\n",
    "            Automatically leaves after user input.\n",
    "        -Shopping ON: A loop, the objects main self-integrated program. Will run the central loop through \n",
    "            the other methods to edit the Items list then print it out once the user has input \"quit\".\n",
    "    \"\"\"\n",
    "    invalid= (\"That was an invalid response! Please try again!\")\n",
    "    shopping = True\n",
    "    \n",
    "    def __init__(self, answer:str = \"\", items:list = []):\n",
    "        '''Defining the items attributes for future methods.'''\n",
    "        self.items = items\n",
    "        self.answer = answer\n",
    "    def quit_answer(self):\n",
    "        \"\"\"Checks if the user answer was quit. If it was, it will turn the central loop off.\"\"\"\n",
    "        if self.answer.lower() == \"quit\":\n",
    "            self.shopping = False         \n",
    "    def show_cart(self):\n",
    "        \"\"\"Prints out each item in the list Items\"\"\"\n",
    "        for item in self.items:\n",
    "            print(item)\n",
    "    def add_cart(self):\n",
    "        \"\"\"Adds to the Items list. Will also check for the input back or quit to end its loop.\"\"\"\n",
    "        while self.shopping:    \n",
    "            self.answer = input(\"What would you like to add to your cart? Type 'back' to go back.\").lower()\n",
    "            if self.answer in [\"back\", \"quit\"]:\n",
    "                self.quit_answer()\n",
    "                break\n",
    "            else:\n",
    "                self.items.append(self.answer)\n",
    "                print(f\"{self.answer.title()} is added to your cart!\")\n",
    "    def delete_single_cart(self):\n",
    "        \"\"\"Deletes a item off the Items list. Will also check for the input back or quit to end its loop.\"\"\"\n",
    "        while self.shopping:\n",
    "            self.answer = input(\"What would you like to remove from your cart? Type 'back' to go back.\").lower()\n",
    "            if self.answer in [\"back\", \"quit\"]:\n",
    "                self.quit_answer()\n",
    "                break\n",
    "            elif self.answer not in cart:\n",
    "                print(self.invalid)\n",
    "            else:\n",
    "                self.items.remove(self.answer)\n",
    "                print(f\"{self.answer.title()} was removed from your cart!\")\n",
    "    def clear_cart(self):\n",
    "        \"\"\"Double checks if the user wants to set their cart to null. Will also end the central loop if the user inputs quit.\"\"\"\n",
    "        while self.shopping:\n",
    "            self.answer = input(\"Are you sure you want to clear your cart? (Y/N)\").lower()\n",
    "            if self.answer == \"y\":\n",
    "                self.items = []\n",
    "                break\n",
    "            elif self.answer.lower() == \"quit\":\n",
    "                self.quit_answer()\n",
    "                break\n",
    "            elif self.answer == \"n\":\n",
    "                break\n",
    "            else:\n",
    "                print(self.invalid)\n",
    "    def shopping_on(self):\n",
    "        \"\"\"\n",
    "        Central Loop to the object. Will run through methods to edit the Items list depending on\n",
    "        what the user tells it too. After the user inputs quit at any time, the loop will end and print\n",
    "        out the list of saved items.\n",
    "        \"\"\"\n",
    "        while self.shopping:\n",
    "            self.answer=input(\"What would you like to do? Type show/add/delete/clear to see or change your cart! Type quit at anytime to end.\").lower()\n",
    "            if self.answer == \"add\":\n",
    "                self.add_cart()\n",
    "            elif self.answer == \"show\":\n",
    "                self.show_cart()\n",
    "            elif self.answer == \"delete\":\n",
    "                self.delete_single_cart()\n",
    "            elif self.answer == \"clear\":\n",
    "                self.clear_cart()\n",
    "            elif self.answer == \"quit\":\n",
    "                self.quit_answer()\n",
    "                break\n",
    "            else:\n",
    "                print(self.invalid)\n",
    "        print(\"Your shopping cart list is: \")\n",
    "        print(self.items)\n",
    "\n",
    "KrogerCart=ShoppingCart()\n",
    "KrogerCart.shopping_on()"
   ]
  },
  {
   "attachments": {},
   "cell_type": "markdown",
   "metadata": {},
   "source": [
    "### **Task 2: String Class**\n",
    "Write a class which has the following two methods:\n",
    "* `get_string`: Accepts a string input from the user\n",
    "* `print_string`: Prints the string all in upper-case"
   ]
  },
  {
   "cell_type": "code",
   "execution_count": 20,
   "metadata": {},
   "outputs": [
    {
     "name": "stdout",
     "output_type": "stream",
     "text": [
      "HELLO\n",
      "ASDAS\n"
     ]
    }
   ],
   "source": [
    "# YOUR CODE HERE\n",
    "class TellMe:\n",
    "    \"\"\"\n",
    "    The attribute for this class:\n",
    "        -User Input: A string, set to blank.\n",
    "    The methods for this class:\n",
    "        -Get: Takes an input and sets the object's user_input to that string.\n",
    "        -Print: Prints whatever the user input string currently is.\n",
    "    \"\"\"\n",
    "    def __init__(self, user_input: str = \"\"):\n",
    "        self.user_input = user_input\n",
    "    def get_string(self):\n",
    "        \"\"\"Takes in an input and sets it to the object's user_input variable\"\"\"\n",
    "        self.user_input = input(\"Tell me something!: \")\n",
    "    def print_string(self):\n",
    "        \"\"\"Prints whatever the object's current user_input variable is to uppercase spelling.\"\"\"\n",
    "        print(self.user_input.upper())\n",
    "\n",
    "newstuff = TellMe(\"Hello\")\n",
    "newstuff.print_string()\n",
    "newstuff.get_string()\n",
    "newstuff.print_string()"
   ]
  },
  {
   "attachments": {},
   "cell_type": "markdown",
   "metadata": {},
   "source": [
    "### **Task 3: Activities**\n",
    "Create a class that depicts your favorite activity. Add in attributes that are associated with that activity in you `__init__` call. Also, create three functions that are associated with the activity.\n",
    "\n",
    "**Example:**\n",
    "If I chose football, I may have a FootballPlayer class with attributes such as:\n",
    "* `self.speed`\n",
    "* `self.strength`\n",
    "* `self.position`\n",
    "\n",
    "and methods such as:\n",
    "* `def pass_ball`\n",
    "* `def run`\n",
    "* `def faster_than_x`"
   ]
  },
  {
   "cell_type": "code",
   "execution_count": 26,
   "metadata": {},
   "outputs": [],
   "source": [
    "class DotaHero:\n",
    "    \"\"\"\n",
    "    Simplified Dota hero object.\n",
    "    The attributes for this class are:\n",
    "        -Primary: A string, used to determine the main stat that certain methods use to calculate.\n",
    "        -Strength: An integer\n",
    "        -Agility: An integer\n",
    "        -Intellect: An integer\n",
    "    The methods for this class are:\n",
    "        -Attack Damage: Calculates the hero's damage based off their primary stat.\n",
    "        -Armour: Calculates the armour stat based off the hero's agility.\n",
    "        -Mana Pool: Calculates the hero's mana pool based off if they're primary is intellect\n",
    "            and then the intellect stat.\n",
    "    \"\"\"\n",
    "    def __init__(self, primary:str, stre:int = 20, agi:int = 20, inte:int = 20):\n",
    "        self.primary = primary.lower()\n",
    "        self.stre = stre\n",
    "        self.agi = agi\n",
    "        self.inte =inte\n",
    "    def attack_damage(self):\n",
    "        \"\"\"Calculates the damage based off the hero object's Primary.\"\"\"\n",
    "        if self.primary == \"strength\":\n",
    "            return 30 + 2*self.stre\n",
    "        elif self.primary == \"agility\":\n",
    "            return 30 + 2*self.agi\n",
    "        elif self.primary == 'intellect':\n",
    "            return 30 + 2*self.inte\n",
    "        elif self.primary == 'universal':\n",
    "            return 30 + 2*((self.stre+self.agi+self.inte)/3)\n",
    "    def armour(self):\n",
    "        \"\"\"Calculates the armour based off the hero object's agility stat.\"\"\"\n",
    "        return round(self.agi*.25)\n",
    "    def mana_pool(self):\n",
    "        \"\"\"\n",
    "        Checks if the hero object's primary stat is intellect and then calculates the\n",
    "        mana pool amount by the intellect stat.\n",
    "        \"\"\"\n",
    "        if self.primary == 'intellect':\n",
    "            return self.inte*150\n",
    "        else:\n",
    "            return self.inte*100\n"
   ]
  },
  {
   "attachments": {},
   "cell_type": "markdown",
   "metadata": {},
   "source": [
    "### **Task 4: Test Your Class!**\n",
    "Now that you created your class, let's create an instance of your class. In the cell below, instantiate a Class Object, then test each of your class methods on that object."
   ]
  },
  {
   "cell_type": "code",
   "execution_count": 28,
   "metadata": {},
   "outputs": [
    {
     "name": "stdout",
     "output_type": "stream",
     "text": [
      "70\n",
      "5\n",
      "3000\n"
     ]
    }
   ],
   "source": [
    "Medusa = DotaHero(\"Intellect\", stre=0)\n",
    "print(Medusa.attack_damage())\n",
    "print(Medusa.armour())\n",
    "print(Medusa.mana_pool())"
   ]
  }
 ],
 "metadata": {
  "kernelspec": {
   "display_name": "Python 3",
   "language": "python",
   "name": "python3"
  },
  "language_info": {
   "codemirror_mode": {
    "name": "ipython",
    "version": 3
   },
   "file_extension": ".py",
   "mimetype": "text/x-python",
   "name": "python",
   "nbconvert_exporter": "python",
   "pygments_lexer": "ipython3",
   "version": "3.10.9"
  },
  "orig_nbformat": 4,
  "vscode": {
   "interpreter": {
    "hash": "26de051ba29f2982a8de78e945f0abaf191376122a1563185a90213a26c5da77"
   }
  }
 },
 "nbformat": 4,
 "nbformat_minor": 2
}
