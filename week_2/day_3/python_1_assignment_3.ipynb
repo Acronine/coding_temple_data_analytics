{
 "cells": [
  {
   "attachments": {},
   "cell_type": "markdown",
   "metadata": {},
   "source": [
    "# Coding Temple's Data Analytics Program\n",
    "---\n",
    "## Python 1 Assignment 3\n",
    "---"
   ]
  },
  {
   "attachments": {},
   "cell_type": "markdown",
   "metadata": {},
   "source": [
    "### **Task 1: Build a Shopping Cart**\n",
    "**You can use either lists or dictionaries. The program should have the following capabilites:**\n",
    "* Takes a string as an input\n",
    "* Stores user input in a dictionary or list\n",
    "* Users should be able to:\n",
    "    * Add Items\n",
    "    * Delete Items\n",
    "    * See current shopping cart\n",
    "* The program should loop until user 'quits'\n",
    "* Upon quitting the program, print out all items in the user's list"
   ]
  },
  {
   "cell_type": "code",
   "execution_count": 14,
   "metadata": {},
   "outputs": [
    {
     "name": "stdout",
     "output_type": "stream",
     "text": [
      "['food', 'foof']\n"
     ]
    }
   ],
   "source": [
    "from IPython.display import clear_output\n",
    "\n",
    "# Ask the user 5 bits of input: Do you want to : Show/Add/Delete/clear or Quit?\n",
    "# YOUR CODE HERE\n",
    "\n",
    "\n",
    "def ans_prompt(answerve: str):\n",
    "    if answerve.lower() == \"quit\":\n",
    "        shopping = False        \n",
    "\n",
    "\n",
    "\n",
    "def shopping_cart():\n",
    "    cart = []\n",
    "    shopping = True\n",
    "    invalid=(\"That was an invalid response! Please try again!\")\n",
    "    while shopping:\n",
    "        cart_option = input(\"What would you like to do? Type show/add/delete/clear to see or change your cart! Type quit at anytime to end.\").lower()\n",
    "        clear_output()\n",
    "        if cart_option == \"show\":\n",
    "            print(cart)\n",
    "        elif cart_option == \"add\":\n",
    "            while shopping:    \n",
    "                answer = input(\"What would you like to add to your cart? Type 'back' to go back.\").lower()\n",
    "                if answer in [\"back\", \"quit\"]:\n",
    "                    ans_prompt(answer)\n",
    "                    break\n",
    "                else:\n",
    "                    cart.append(answer)\n",
    "                    print(f\"{answer.title()} is added to your cart!\")\n",
    "        elif cart_option == \"delete\":\n",
    "            while shopping:\n",
    "                answer = input(\"What would you like to remove from your cart? Type 'back' to go back.\").lower()\n",
    "                if answer in [\"back\", \"quit\"]:\n",
    "                    ans_prompt(answer)\n",
    "                    break\n",
    "                elif answer not in cart:\n",
    "                    print(invalid)\n",
    "                else:\n",
    "                    cart.remove(answer)\n",
    "                    print(f\"{answer.title()} was removed from your cart!\")\n",
    "        elif cart_option == \"clear\":\n",
    "            while shopping:\n",
    "                answer = input(\"Are you sure you want to clear your cart? (Y/N)\").lower()\n",
    "                if answer == \"y\":\n",
    "                    cart = []\n",
    "                    break\n",
    "                elif answer.lower() == \"quit\":\n",
    "                    ans_prompt(answer)\n",
    "                    break\n",
    "                elif answer == \"n\":\n",
    "                    break\n",
    "                else:\n",
    "                    print(invalid)\n",
    "        elif cart_option == \"quit\":\n",
    "            ans_prompt(cart_option)\n",
    "            break\n",
    "        else:\n",
    "            print(invalid)\n",
    "    clear_output()\n",
    "    print(cart)\n",
    "\n",
    "shopping_cart()\n"
   ]
  },
  {
   "attachments": {},
   "cell_type": "markdown",
   "metadata": {},
   "source": [
    "### **Task 2: Create a Module and Import it**\n",
    "Create a Module in VS Code and import it into a Notebook. Use each of the functions you build in your module\n",
    "\n",
    "**Your module should have the following capabilities:**\n",
    "* Has a function to calculate the square footage of a house\n",
    "* Has a function to calculate the circumference of a circle\n",
    "* Has a function to change feet to inches"
   ]
  },
  {
   "cell_type": "code",
   "execution_count": 5,
   "metadata": {},
   "outputs": [
    {
     "name": "stdout",
     "output_type": "stream",
     "text": [
      "340000\n",
      "31.400000000000002\n",
      "144\n"
     ]
    }
   ],
   "source": [
    "from assignment_3_modules import square_footage as sf, circumference_circle as cc, in_inches as ini\n",
    "\n",
    "print(sf(850,400))\n",
    "print(cc(5))\n",
    "print(ini(12))"
   ]
  },
  {
   "attachments": {},
   "cell_type": "markdown",
   "metadata": {},
   "source": [
    "### **Task 3.1: Lists**\n",
    "Create 4 lists. Two of these lists should be keys, two of these lists should be values"
   ]
  },
  {
   "cell_type": "code",
   "execution_count": 7,
   "metadata": {},
   "outputs": [],
   "source": [
    "gen_1_pokemon = ['shellder', 'arcanine', 'clefable', 'cubone', 'weezing']\n",
    "gen_1_types = ['water', 'fire', 'fairy', 'ground', 'poison']\n",
    "gen_2_pokemon = ['flaffy', 'bellossom','unknown', 'stantler','pineco', 'sudowoodo']\n",
    "gen_2_types = ['electric', 'grass', 'psychic', 'normal', 'bug', 'rock']"
   ]
  },
  {
   "attachments": {},
   "cell_type": "markdown",
   "metadata": {},
   "source": [
    "### **Task 3.2: Create a function that converts two lists into a dictionary, then merges two dictionaries into one.**\n",
    "\n",
    "Using your 4 lists, create a function which combines the keys lists with the values lists into a dictionary, then merges and returns the two dictionaries together."
   ]
  },
  {
   "cell_type": "code",
   "execution_count": 8,
   "metadata": {},
   "outputs": [
    {
     "name": "stdout",
     "output_type": "stream",
     "text": [
      "{'shellder': 'water', 'arcanine': 'fire', 'clefable': 'fairy', 'cubone': 'ground', 'weezing': 'poison'}\n",
      "{'flaffy': 'electric', 'bellossom': 'grass', 'unknown': 'psychic', 'stantler': 'normal', 'pineco': 'bug', 'sudowoodo': 'rock'}\n"
     ]
    }
   ],
   "source": [
    "def list_merger(key_list: list, value_list: list) -> dict:\n",
    "    merg_dict = {}\n",
    "    for key,value in zip(key_list,value_list):\n",
    "        merg_dict[key] = value\n",
    "    return merg_dict\n",
    "\n",
    "print(list_merger(gen_1_pokemon,gen_1_types))\n",
    "\n",
    "print(list_merger(gen_2_pokemon,gen_2_types))"
   ]
  }
 ],
 "metadata": {
  "kernelspec": {
   "display_name": "Python 3",
   "language": "python",
   "name": "python3"
  },
  "language_info": {
   "codemirror_mode": {
    "name": "ipython",
    "version": 3
   },
   "file_extension": ".py",
   "mimetype": "text/x-python",
   "name": "python",
   "nbconvert_exporter": "python",
   "pygments_lexer": "ipython3",
   "version": "3.10.9"
  },
  "orig_nbformat": 4,
  "vscode": {
   "interpreter": {
    "hash": "26de051ba29f2982a8de78e945f0abaf191376122a1563185a90213a26c5da77"
   }
  }
 },
 "nbformat": 4,
 "nbformat_minor": 2
}
